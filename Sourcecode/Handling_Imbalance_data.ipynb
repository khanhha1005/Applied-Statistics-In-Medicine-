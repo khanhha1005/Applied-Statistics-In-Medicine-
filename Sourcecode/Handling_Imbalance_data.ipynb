{
  "nbformat": 4,
  "nbformat_minor": 0,
  "metadata": {
    "colab": {
      "name": "Handling_Imbalance_data.ipynb",
      "provenance": [],
      "toc_visible": true
    },
    "kernelspec": {
      "name": "python3",
      "display_name": "Python 3"
    },
    "language_info": {
      "name": "python"
    }
  },
  "cells": [
    {
      "cell_type": "code",
      "execution_count": 3,
      "metadata": {
        "colab": {
          "base_uri": "https://localhost:8080/"
        },
        "id": "RZ2RZzymSQCb",
        "outputId": "9abb17cf-10ee-4389-8f0f-4a8898f7bb97"
      },
      "outputs": [
        {
          "output_type": "stream",
          "name": "stdout",
          "text": [
            "Looking in indexes: https://pypi.org/simple, https://us-python.pkg.dev/colab-wheels/public/simple/\n",
            "Requirement already satisfied: xgboost in /usr/local/lib/python3.7/dist-packages (0.90)\n",
            "Requirement already satisfied: scipy in /usr/local/lib/python3.7/dist-packages (from xgboost) (1.7.3)\n",
            "Requirement already satisfied: numpy in /usr/local/lib/python3.7/dist-packages (from xgboost) (1.21.6)\n",
            "Looking in indexes: https://pypi.org/simple, https://us-python.pkg.dev/colab-wheels/public/simple/\n",
            "Requirement already satisfied: imbalanced-learn in /usr/local/lib/python3.7/dist-packages (0.8.1)\n",
            "Requirement already satisfied: numpy>=1.13.3 in /usr/local/lib/python3.7/dist-packages (from imbalanced-learn) (1.21.6)\n",
            "Requirement already satisfied: joblib>=0.11 in /usr/local/lib/python3.7/dist-packages (from imbalanced-learn) (1.1.0)\n",
            "Requirement already satisfied: scipy>=0.19.1 in /usr/local/lib/python3.7/dist-packages (from imbalanced-learn) (1.7.3)\n",
            "Requirement already satisfied: scikit-learn>=0.24 in /usr/local/lib/python3.7/dist-packages (from imbalanced-learn) (1.0.2)\n",
            "Requirement already satisfied: threadpoolctl>=2.0.0 in /usr/local/lib/python3.7/dist-packages (from scikit-learn>=0.24->imbalanced-learn) (3.1.0)\n"
          ]
        }
      ],
      "source": [
        "import numpy as np\n",
        "import matplotlib.pyplot as plt\n",
        "import pandas as pd\n",
        "import math\n",
        "from sklearn.metrics import mean_squared_error\n",
        "from sklearn.model_selection import train_test_split\n",
        "from sklearn.linear_model import LinearRegression\n",
        "from sklearn.preprocessing import MinMaxScaler\n",
        "from sklearn.metrics import classification_report, accuracy_score, precision_score, recall_score, f1_score\n",
        "\n",
        "!pip install xgboost\n",
        "!pip install imbalanced-learn\n"
      ]
    },
    {
      "cell_type": "code",
      "source": [
        "df = pd.read_csv('/content/MD_managed_bodyfat.csv')\n",
        "data = df.drop(columns=['Unnamed: 0'])\n",
        "data.head()"
      ],
      "metadata": {
        "colab": {
          "base_uri": "https://localhost:8080/",
          "height": 206
        },
        "id": "-wdhfgjhTRBu",
        "outputId": "9910c096-49f8-4449-8f20-fff1ccbdb1e7"
      },
      "execution_count": 4,
      "outputs": [
        {
          "output_type": "execute_result",
          "data": {
            "text/plain": [
              "   Density   Age  Weight  Height  Neck       Chest  Abdomen         Hip  \\\n",
              "0   1.0708  23.0  154.25   67.75  36.2   93.100000     85.2   94.500000   \n",
              "1   1.0853  22.0  173.25   72.25  38.5   95.695554     83.0   98.700000   \n",
              "2   1.0414  22.0  154.00   66.25  34.0   95.800000     87.9   99.200000   \n",
              "3   1.0751  26.0  184.75   72.25  37.4  101.800000     86.4  100.040854   \n",
              "4   1.0340  24.0  184.25   71.25  34.4   97.300000    100.0  101.900000   \n",
              "\n",
              "   Thigh  Knee  Ankle     Biceps    Forearm  Wrist  BodyFat  \n",
              "0   59.0  37.3   21.9  32.000000  28.238743   17.1     12.3  \n",
              "1   58.7  37.3   23.4  30.500000  28.900000   18.2      6.1  \n",
              "2   59.6  38.9   24.0  28.800000  27.150830   16.6     25.3  \n",
              "3   60.1  37.3   22.8  33.187769  29.400000   18.2     10.4  \n",
              "4   63.2  42.2   24.0  32.200000  27.700000   17.7     28.7  "
            ],
            "text/html": [
              "\n",
              "  <div id=\"df-ab31c531-b86a-402b-b44c-74e7bfc6e88d\">\n",
              "    <div class=\"colab-df-container\">\n",
              "      <div>\n",
              "<style scoped>\n",
              "    .dataframe tbody tr th:only-of-type {\n",
              "        vertical-align: middle;\n",
              "    }\n",
              "\n",
              "    .dataframe tbody tr th {\n",
              "        vertical-align: top;\n",
              "    }\n",
              "\n",
              "    .dataframe thead th {\n",
              "        text-align: right;\n",
              "    }\n",
              "</style>\n",
              "<table border=\"1\" class=\"dataframe\">\n",
              "  <thead>\n",
              "    <tr style=\"text-align: right;\">\n",
              "      <th></th>\n",
              "      <th>Density</th>\n",
              "      <th>Age</th>\n",
              "      <th>Weight</th>\n",
              "      <th>Height</th>\n",
              "      <th>Neck</th>\n",
              "      <th>Chest</th>\n",
              "      <th>Abdomen</th>\n",
              "      <th>Hip</th>\n",
              "      <th>Thigh</th>\n",
              "      <th>Knee</th>\n",
              "      <th>Ankle</th>\n",
              "      <th>Biceps</th>\n",
              "      <th>Forearm</th>\n",
              "      <th>Wrist</th>\n",
              "      <th>BodyFat</th>\n",
              "    </tr>\n",
              "  </thead>\n",
              "  <tbody>\n",
              "    <tr>\n",
              "      <th>0</th>\n",
              "      <td>1.0708</td>\n",
              "      <td>23.0</td>\n",
              "      <td>154.25</td>\n",
              "      <td>67.75</td>\n",
              "      <td>36.2</td>\n",
              "      <td>93.100000</td>\n",
              "      <td>85.2</td>\n",
              "      <td>94.500000</td>\n",
              "      <td>59.0</td>\n",
              "      <td>37.3</td>\n",
              "      <td>21.9</td>\n",
              "      <td>32.000000</td>\n",
              "      <td>28.238743</td>\n",
              "      <td>17.1</td>\n",
              "      <td>12.3</td>\n",
              "    </tr>\n",
              "    <tr>\n",
              "      <th>1</th>\n",
              "      <td>1.0853</td>\n",
              "      <td>22.0</td>\n",
              "      <td>173.25</td>\n",
              "      <td>72.25</td>\n",
              "      <td>38.5</td>\n",
              "      <td>95.695554</td>\n",
              "      <td>83.0</td>\n",
              "      <td>98.700000</td>\n",
              "      <td>58.7</td>\n",
              "      <td>37.3</td>\n",
              "      <td>23.4</td>\n",
              "      <td>30.500000</td>\n",
              "      <td>28.900000</td>\n",
              "      <td>18.2</td>\n",
              "      <td>6.1</td>\n",
              "    </tr>\n",
              "    <tr>\n",
              "      <th>2</th>\n",
              "      <td>1.0414</td>\n",
              "      <td>22.0</td>\n",
              "      <td>154.00</td>\n",
              "      <td>66.25</td>\n",
              "      <td>34.0</td>\n",
              "      <td>95.800000</td>\n",
              "      <td>87.9</td>\n",
              "      <td>99.200000</td>\n",
              "      <td>59.6</td>\n",
              "      <td>38.9</td>\n",
              "      <td>24.0</td>\n",
              "      <td>28.800000</td>\n",
              "      <td>27.150830</td>\n",
              "      <td>16.6</td>\n",
              "      <td>25.3</td>\n",
              "    </tr>\n",
              "    <tr>\n",
              "      <th>3</th>\n",
              "      <td>1.0751</td>\n",
              "      <td>26.0</td>\n",
              "      <td>184.75</td>\n",
              "      <td>72.25</td>\n",
              "      <td>37.4</td>\n",
              "      <td>101.800000</td>\n",
              "      <td>86.4</td>\n",
              "      <td>100.040854</td>\n",
              "      <td>60.1</td>\n",
              "      <td>37.3</td>\n",
              "      <td>22.8</td>\n",
              "      <td>33.187769</td>\n",
              "      <td>29.400000</td>\n",
              "      <td>18.2</td>\n",
              "      <td>10.4</td>\n",
              "    </tr>\n",
              "    <tr>\n",
              "      <th>4</th>\n",
              "      <td>1.0340</td>\n",
              "      <td>24.0</td>\n",
              "      <td>184.25</td>\n",
              "      <td>71.25</td>\n",
              "      <td>34.4</td>\n",
              "      <td>97.300000</td>\n",
              "      <td>100.0</td>\n",
              "      <td>101.900000</td>\n",
              "      <td>63.2</td>\n",
              "      <td>42.2</td>\n",
              "      <td>24.0</td>\n",
              "      <td>32.200000</td>\n",
              "      <td>27.700000</td>\n",
              "      <td>17.7</td>\n",
              "      <td>28.7</td>\n",
              "    </tr>\n",
              "  </tbody>\n",
              "</table>\n",
              "</div>\n",
              "      <button class=\"colab-df-convert\" onclick=\"convertToInteractive('df-ab31c531-b86a-402b-b44c-74e7bfc6e88d')\"\n",
              "              title=\"Convert this dataframe to an interactive table.\"\n",
              "              style=\"display:none;\">\n",
              "        \n",
              "  <svg xmlns=\"http://www.w3.org/2000/svg\" height=\"24px\"viewBox=\"0 0 24 24\"\n",
              "       width=\"24px\">\n",
              "    <path d=\"M0 0h24v24H0V0z\" fill=\"none\"/>\n",
              "    <path d=\"M18.56 5.44l.94 2.06.94-2.06 2.06-.94-2.06-.94-.94-2.06-.94 2.06-2.06.94zm-11 1L8.5 8.5l.94-2.06 2.06-.94-2.06-.94L8.5 2.5l-.94 2.06-2.06.94zm10 10l.94 2.06.94-2.06 2.06-.94-2.06-.94-.94-2.06-.94 2.06-2.06.94z\"/><path d=\"M17.41 7.96l-1.37-1.37c-.4-.4-.92-.59-1.43-.59-.52 0-1.04.2-1.43.59L10.3 9.45l-7.72 7.72c-.78.78-.78 2.05 0 2.83L4 21.41c.39.39.9.59 1.41.59.51 0 1.02-.2 1.41-.59l7.78-7.78 2.81-2.81c.8-.78.8-2.07 0-2.86zM5.41 20L4 18.59l7.72-7.72 1.47 1.35L5.41 20z\"/>\n",
              "  </svg>\n",
              "      </button>\n",
              "      \n",
              "  <style>\n",
              "    .colab-df-container {\n",
              "      display:flex;\n",
              "      flex-wrap:wrap;\n",
              "      gap: 12px;\n",
              "    }\n",
              "\n",
              "    .colab-df-convert {\n",
              "      background-color: #E8F0FE;\n",
              "      border: none;\n",
              "      border-radius: 50%;\n",
              "      cursor: pointer;\n",
              "      display: none;\n",
              "      fill: #1967D2;\n",
              "      height: 32px;\n",
              "      padding: 0 0 0 0;\n",
              "      width: 32px;\n",
              "    }\n",
              "\n",
              "    .colab-df-convert:hover {\n",
              "      background-color: #E2EBFA;\n",
              "      box-shadow: 0px 1px 2px rgba(60, 64, 67, 0.3), 0px 1px 3px 1px rgba(60, 64, 67, 0.15);\n",
              "      fill: #174EA6;\n",
              "    }\n",
              "\n",
              "    [theme=dark] .colab-df-convert {\n",
              "      background-color: #3B4455;\n",
              "      fill: #D2E3FC;\n",
              "    }\n",
              "\n",
              "    [theme=dark] .colab-df-convert:hover {\n",
              "      background-color: #434B5C;\n",
              "      box-shadow: 0px 1px 3px 1px rgba(0, 0, 0, 0.15);\n",
              "      filter: drop-shadow(0px 1px 2px rgba(0, 0, 0, 0.3));\n",
              "      fill: #FFFFFF;\n",
              "    }\n",
              "  </style>\n",
              "\n",
              "      <script>\n",
              "        const buttonEl =\n",
              "          document.querySelector('#df-ab31c531-b86a-402b-b44c-74e7bfc6e88d button.colab-df-convert');\n",
              "        buttonEl.style.display =\n",
              "          google.colab.kernel.accessAllowed ? 'block' : 'none';\n",
              "\n",
              "        async function convertToInteractive(key) {\n",
              "          const element = document.querySelector('#df-ab31c531-b86a-402b-b44c-74e7bfc6e88d');\n",
              "          const dataTable =\n",
              "            await google.colab.kernel.invokeFunction('convertToInteractive',\n",
              "                                                     [key], {});\n",
              "          if (!dataTable) return;\n",
              "\n",
              "          const docLinkHtml = 'Like what you see? Visit the ' +\n",
              "            '<a target=\"_blank\" href=https://colab.research.google.com/notebooks/data_table.ipynb>data table notebook</a>'\n",
              "            + ' to learn more about interactive tables.';\n",
              "          element.innerHTML = '';\n",
              "          dataTable['output_type'] = 'display_data';\n",
              "          await google.colab.output.renderOutput(dataTable, element);\n",
              "          const docLink = document.createElement('div');\n",
              "          docLink.innerHTML = docLinkHtml;\n",
              "          element.appendChild(docLink);\n",
              "        }\n",
              "      </script>\n",
              "    </div>\n",
              "  </div>\n",
              "  "
            ]
          },
          "metadata": {},
          "execution_count": 4
        }
      ]
    },
    {
      "cell_type": "code",
      "source": [
        "data['BodyFat'].value_counts()"
      ],
      "metadata": {
        "colab": {
          "base_uri": "https://localhost:8080/"
        },
        "id": "I35w26rpTg4W",
        "outputId": "f1ffb302-f838-4b59-f1bd-5b538d0b1f46"
      },
      "execution_count": 5,
      "outputs": [
        {
          "output_type": "execute_result",
          "data": {
            "text/plain": [
              "20.4    4\n",
              "25.8    3\n",
              "23.6    3\n",
              "14.9    3\n",
              "16.5    3\n",
              "       ..\n",
              "31.4    1\n",
              "18.8    1\n",
              "18.5    1\n",
              "13.5    1\n",
              "31.9    1\n",
              "Name: BodyFat, Length: 176, dtype: int64"
            ]
          },
          "metadata": {},
          "execution_count": 5
        }
      ]
    },
    {
      "cell_type": "markdown",
      "source": [
        "# Predict with imbalance data"
      ],
      "metadata": {
        "id": "e24yx_db9_n5"
      }
    },
    {
      "cell_type": "code",
      "source": [
        "x = data.iloc[:, :-1].values\n",
        "y = data.iloc[:, -1].values\n",
        "y\n"
      ],
      "metadata": {
        "colab": {
          "base_uri": "https://localhost:8080/"
        },
        "id": "m4Mxt7pg-2IK",
        "outputId": "5681b605-16db-47d8-bde8-b727b0ec9062"
      },
      "execution_count": 6,
      "outputs": [
        {
          "output_type": "execute_result",
          "data": {
            "text/plain": [
              "array([12.3,  6.1, 25.3, 10.4, 28.7, 20.9, 19.2, 12.4,  4.1, 11.7,  7.1,\n",
              "        7.8, 20.8, 21.2, 22.1, 20.9, 29. , 22.9, 16. , 16.5, 19.1, 15.2,\n",
              "       15.6, 17.7, 14. ,  3.7,  7.9, 22.9,  3.7,  8.8, 11.9,  5.7, 11.8,\n",
              "       21.3, 32.3, 40.1, 24.2, 28.4, 35.2, 32.6, 34.5, 32.9, 31.6, 32. ,\n",
              "        7.7, 13.9, 10.8,  5.6, 13.6,  4. , 10.2,  6.6,  8. ,  6.3,  3.9,\n",
              "       22.6, 20.4, 28. , 31.5, 24.6, 26.1, 29.8, 30.7, 25.8, 32.3, 30. ,\n",
              "       21.5, 13.8,  6.3, 12.9, 24.3,  8.8,  8.5, 13.5, 11.8, 18.5,  8.8,\n",
              "       22.2, 21.5, 18.8, 31.4, 26.8, 18.4, 27. , 27. , 26.6, 14.9, 23.1,\n",
              "        8.3, 14.1, 20.5, 18.2,  8.5, 24.9,  9. , 17.4,  9.6, 11.3, 17.8,\n",
              "       22.2, 21.2, 20.4, 20.1, 22.3, 25.4, 18. , 19.3, 18.3, 17.3, 21.4,\n",
              "       19.7, 28. , 22.1, 21.3, 26.7, 16.7, 20.1, 13.9, 25.8, 18.1, 27.9,\n",
              "       25.3, 14.7, 16. , 13.8, 17.5, 27.2, 17.4, 20.8, 14.9, 18.1, 22.7,\n",
              "       23.6, 26.1, 24.4, 27.1, 21.8, 29.4, 22.4, 20.4, 24.9, 18.3, 23.3,\n",
              "        9.4, 10.3, 14.2, 19.2, 29.6,  5.3, 25.2,  9.4, 19.6, 10.1, 16.5,\n",
              "       21. , 17.3, 31.2, 10. , 12.5, 22.5,  9.4, 14.6, 13. , 15.1, 27.3,\n",
              "       19.2, 21.8, 20.3, 34.3, 16.5,  3. ,  0.7, 20.5, 16.9, 25.3,  9.9,\n",
              "       13.1, 29.9, 22.5, 16.9, 26.6,  0. , 11.5, 12.1, 17.5,  8.6, 23.6,\n",
              "       20.4, 20.5, 24.4, 11.4, 38.1, 15.9, 24.7, 22.8, 25.5, 22. , 17.7,\n",
              "        6.6, 23.6, 12.2, 22.1, 28.7,  6. , 34.8, 16.6, 32.9, 32.8,  9.6,\n",
              "       10.8,  7.1, 27.2, 19.5, 18.7, 19.5, 47.5, 13.6,  7.5, 24.5, 15. ,\n",
              "       12.4, 26. , 11.5,  5.2, 10.9, 12.5, 14.8, 25.2, 14.9, 17. , 10.6,\n",
              "       16.1, 15.4, 26.7, 25.8, 18.6, 24.8, 27.3, 12.4, 29.9, 17. , 35. ,\n",
              "       30.4, 32.6, 29. , 15.2, 30.2, 11. , 33.6, 29.3, 26. , 31.9])"
            ]
          },
          "metadata": {},
          "execution_count": 6
        }
      ]
    },
    {
      "cell_type": "code",
      "source": [
        "scaler = MinMaxScaler(feature_range=(0, 1))\n",
        "x_scaled = scaler.fit_transform(x)\n",
        "y_scaled = scaler.fit_transform(y.reshape(-1, 1))\n",
        "print(x_scaled.shape, y_scaled.shape)\n",
        "y_scaled"
      ],
      "metadata": {
        "colab": {
          "base_uri": "https://localhost:8080/"
        },
        "id": "dDbTE1te_k7X",
        "outputId": "38e224c3-a691-4f68-a738-a479195aa80a"
      },
      "execution_count": 7,
      "outputs": [
        {
          "output_type": "stream",
          "name": "stdout",
          "text": [
            "(252, 14) (252, 1)\n"
          ]
        },
        {
          "output_type": "execute_result",
          "data": {
            "text/plain": [
              "array([[0.25894737],\n",
              "       [0.12842105],\n",
              "       [0.53263158],\n",
              "       [0.21894737],\n",
              "       [0.60421053],\n",
              "       [0.44      ],\n",
              "       [0.40421053],\n",
              "       [0.26105263],\n",
              "       [0.08631579],\n",
              "       [0.24631579],\n",
              "       [0.14947368],\n",
              "       [0.16421053],\n",
              "       [0.43789474],\n",
              "       [0.44631579],\n",
              "       [0.46526316],\n",
              "       [0.44      ],\n",
              "       [0.61052632],\n",
              "       [0.48210526],\n",
              "       [0.33684211],\n",
              "       [0.34736842],\n",
              "       [0.40210526],\n",
              "       [0.32      ],\n",
              "       [0.32842105],\n",
              "       [0.37263158],\n",
              "       [0.29473684],\n",
              "       [0.07789474],\n",
              "       [0.16631579],\n",
              "       [0.48210526],\n",
              "       [0.07789474],\n",
              "       [0.18526316],\n",
              "       [0.25052632],\n",
              "       [0.12      ],\n",
              "       [0.24842105],\n",
              "       [0.44842105],\n",
              "       [0.68      ],\n",
              "       [0.84421053],\n",
              "       [0.50947368],\n",
              "       [0.59789474],\n",
              "       [0.74105263],\n",
              "       [0.68631579],\n",
              "       [0.72631579],\n",
              "       [0.69263158],\n",
              "       [0.66526316],\n",
              "       [0.67368421],\n",
              "       [0.16210526],\n",
              "       [0.29263158],\n",
              "       [0.22736842],\n",
              "       [0.11789474],\n",
              "       [0.28631579],\n",
              "       [0.08421053],\n",
              "       [0.21473684],\n",
              "       [0.13894737],\n",
              "       [0.16842105],\n",
              "       [0.13263158],\n",
              "       [0.08210526],\n",
              "       [0.47578947],\n",
              "       [0.42947368],\n",
              "       [0.58947368],\n",
              "       [0.66315789],\n",
              "       [0.51789474],\n",
              "       [0.54947368],\n",
              "       [0.62736842],\n",
              "       [0.64631579],\n",
              "       [0.54315789],\n",
              "       [0.68      ],\n",
              "       [0.63157895],\n",
              "       [0.45263158],\n",
              "       [0.29052632],\n",
              "       [0.13263158],\n",
              "       [0.27157895],\n",
              "       [0.51157895],\n",
              "       [0.18526316],\n",
              "       [0.17894737],\n",
              "       [0.28421053],\n",
              "       [0.24842105],\n",
              "       [0.38947368],\n",
              "       [0.18526316],\n",
              "       [0.46736842],\n",
              "       [0.45263158],\n",
              "       [0.39578947],\n",
              "       [0.66105263],\n",
              "       [0.56421053],\n",
              "       [0.38736842],\n",
              "       [0.56842105],\n",
              "       [0.56842105],\n",
              "       [0.56      ],\n",
              "       [0.31368421],\n",
              "       [0.48631579],\n",
              "       [0.17473684],\n",
              "       [0.29684211],\n",
              "       [0.43157895],\n",
              "       [0.38315789],\n",
              "       [0.17894737],\n",
              "       [0.52421053],\n",
              "       [0.18947368],\n",
              "       [0.36631579],\n",
              "       [0.20210526],\n",
              "       [0.23789474],\n",
              "       [0.37473684],\n",
              "       [0.46736842],\n",
              "       [0.44631579],\n",
              "       [0.42947368],\n",
              "       [0.42315789],\n",
              "       [0.46947368],\n",
              "       [0.53473684],\n",
              "       [0.37894737],\n",
              "       [0.40631579],\n",
              "       [0.38526316],\n",
              "       [0.36421053],\n",
              "       [0.45052632],\n",
              "       [0.41473684],\n",
              "       [0.58947368],\n",
              "       [0.46526316],\n",
              "       [0.44842105],\n",
              "       [0.56210526],\n",
              "       [0.35157895],\n",
              "       [0.42315789],\n",
              "       [0.29263158],\n",
              "       [0.54315789],\n",
              "       [0.38105263],\n",
              "       [0.58736842],\n",
              "       [0.53263158],\n",
              "       [0.30947368],\n",
              "       [0.33684211],\n",
              "       [0.29052632],\n",
              "       [0.36842105],\n",
              "       [0.57263158],\n",
              "       [0.36631579],\n",
              "       [0.43789474],\n",
              "       [0.31368421],\n",
              "       [0.38105263],\n",
              "       [0.47789474],\n",
              "       [0.49684211],\n",
              "       [0.54947368],\n",
              "       [0.51368421],\n",
              "       [0.57052632],\n",
              "       [0.45894737],\n",
              "       [0.61894737],\n",
              "       [0.47157895],\n",
              "       [0.42947368],\n",
              "       [0.52421053],\n",
              "       [0.38526316],\n",
              "       [0.49052632],\n",
              "       [0.19789474],\n",
              "       [0.21684211],\n",
              "       [0.29894737],\n",
              "       [0.40421053],\n",
              "       [0.62315789],\n",
              "       [0.11157895],\n",
              "       [0.53052632],\n",
              "       [0.19789474],\n",
              "       [0.41263158],\n",
              "       [0.21263158],\n",
              "       [0.34736842],\n",
              "       [0.44210526],\n",
              "       [0.36421053],\n",
              "       [0.65684211],\n",
              "       [0.21052632],\n",
              "       [0.26315789],\n",
              "       [0.47368421],\n",
              "       [0.19789474],\n",
              "       [0.30736842],\n",
              "       [0.27368421],\n",
              "       [0.31789474],\n",
              "       [0.57473684],\n",
              "       [0.40421053],\n",
              "       [0.45894737],\n",
              "       [0.42736842],\n",
              "       [0.72210526],\n",
              "       [0.34736842],\n",
              "       [0.06315789],\n",
              "       [0.01473684],\n",
              "       [0.43157895],\n",
              "       [0.35578947],\n",
              "       [0.53263158],\n",
              "       [0.20842105],\n",
              "       [0.27578947],\n",
              "       [0.62947368],\n",
              "       [0.47368421],\n",
              "       [0.35578947],\n",
              "       [0.56      ],\n",
              "       [0.        ],\n",
              "       [0.24210526],\n",
              "       [0.25473684],\n",
              "       [0.36842105],\n",
              "       [0.18105263],\n",
              "       [0.49684211],\n",
              "       [0.42947368],\n",
              "       [0.43157895],\n",
              "       [0.51368421],\n",
              "       [0.24      ],\n",
              "       [0.80210526],\n",
              "       [0.33473684],\n",
              "       [0.52      ],\n",
              "       [0.48      ],\n",
              "       [0.53684211],\n",
              "       [0.46315789],\n",
              "       [0.37263158],\n",
              "       [0.13894737],\n",
              "       [0.49684211],\n",
              "       [0.25684211],\n",
              "       [0.46526316],\n",
              "       [0.60421053],\n",
              "       [0.12631579],\n",
              "       [0.73263158],\n",
              "       [0.34947368],\n",
              "       [0.69263158],\n",
              "       [0.69052632],\n",
              "       [0.20210526],\n",
              "       [0.22736842],\n",
              "       [0.14947368],\n",
              "       [0.57263158],\n",
              "       [0.41052632],\n",
              "       [0.39368421],\n",
              "       [0.41052632],\n",
              "       [1.        ],\n",
              "       [0.28631579],\n",
              "       [0.15789474],\n",
              "       [0.51578947],\n",
              "       [0.31578947],\n",
              "       [0.26105263],\n",
              "       [0.54736842],\n",
              "       [0.24210526],\n",
              "       [0.10947368],\n",
              "       [0.22947368],\n",
              "       [0.26315789],\n",
              "       [0.31157895],\n",
              "       [0.53052632],\n",
              "       [0.31368421],\n",
              "       [0.35789474],\n",
              "       [0.22315789],\n",
              "       [0.33894737],\n",
              "       [0.32421053],\n",
              "       [0.56210526],\n",
              "       [0.54315789],\n",
              "       [0.39157895],\n",
              "       [0.52210526],\n",
              "       [0.57473684],\n",
              "       [0.26105263],\n",
              "       [0.62947368],\n",
              "       [0.35789474],\n",
              "       [0.73684211],\n",
              "       [0.64      ],\n",
              "       [0.68631579],\n",
              "       [0.61052632],\n",
              "       [0.32      ],\n",
              "       [0.63578947],\n",
              "       [0.23157895],\n",
              "       [0.70736842],\n",
              "       [0.61684211],\n",
              "       [0.54736842],\n",
              "       [0.67157895]])"
            ]
          },
          "metadata": {},
          "execution_count": 7
        }
      ]
    },
    {
      "cell_type": "code",
      "source": [
        "x_train, x_test, y_train, y_test = train_test_split(x_scaled, y_scaled, test_size=0.3, random_state=3)\n",
        "x_train.shape, y_train.shape, x_test.shape, y_test.shape"
      ],
      "metadata": {
        "colab": {
          "base_uri": "https://localhost:8080/"
        },
        "id": "oqqobMs7AMCj",
        "outputId": "d4652079-3118-4b75-8594-2bd71be831a1"
      },
      "execution_count": 8,
      "outputs": [
        {
          "output_type": "execute_result",
          "data": {
            "text/plain": [
              "((176, 14), (176, 1), (76, 14), (76, 1))"
            ]
          },
          "metadata": {},
          "execution_count": 8
        }
      ]
    },
    {
      "cell_type": "code",
      "source": [
        "model = LinearRegression()\n",
        "model.fit(x_train, y_train)\n"
      ],
      "metadata": {
        "colab": {
          "base_uri": "https://localhost:8080/"
        },
        "id": "age3hyoMBGH3",
        "outputId": "3d2d237e-63f8-4901-bae2-f5cb6ae12d19"
      },
      "execution_count": 9,
      "outputs": [
        {
          "output_type": "execute_result",
          "data": {
            "text/plain": [
              "LinearRegression()"
            ]
          },
          "metadata": {},
          "execution_count": 9
        }
      ]
    },
    {
      "cell_type": "code",
      "source": [
        "pred = model.predict(x_test)"
      ],
      "metadata": {
        "id": "CzYfkdcfBSw6"
      },
      "execution_count": 10,
      "outputs": []
    },
    {
      "cell_type": "code",
      "source": [
        "rmse = math.sqrt(mean_squared_error(y_test,pred))\n",
        "print('Root Means Squared Error when predict with imbalanced data: ', rmse)"
      ],
      "metadata": {
        "id": "QxZIlioPT_XD",
        "colab": {
          "base_uri": "https://localhost:8080/"
        },
        "outputId": "0c082ae2-a3d0-4c4f-9e9c-734f4672a025"
      },
      "execution_count": 11,
      "outputs": [
        {
          "output_type": "stream",
          "name": "stdout",
          "text": [
            "Root Means Squared Error when predict with imbalanced data:  0.02899305865706231\n"
          ]
        }
      ]
    },
    {
      "cell_type": "markdown",
      "source": [
        "# Handling Imbalance data\n"
      ],
      "metadata": {
        "id": "Qk203p9GBkQp"
      }
    },
    {
      "cell_type": "markdown",
      "source": [
        "## 0: Clustering data base on range of bodyfat"
      ],
      "metadata": {
        "id": "0r_PmW6am0kE"
      }
    },
    {
      "cell_type": "code",
      "source": [
        "data_handling = data[:]\n",
        "data_handling"
      ],
      "metadata": {
        "colab": {
          "base_uri": "https://localhost:8080/",
          "height": 0
        },
        "id": "JzhDmezNthNz",
        "outputId": "5af87430-2d14-4e3b-92d0-218634705102"
      },
      "execution_count": 12,
      "outputs": [
        {
          "output_type": "execute_result",
          "data": {
            "text/plain": [
              "     Density   Age  Weight  Height  Neck       Chest  Abdomen         Hip  \\\n",
              "0    1.07080  23.0  154.25   67.75  36.2   93.100000     85.2   94.500000   \n",
              "1    1.08530  22.0  173.25   72.25  38.5   95.695554     83.0   98.700000   \n",
              "2    1.04140  22.0  154.00   66.25  34.0   95.800000     87.9   99.200000   \n",
              "3    1.07510  26.0  184.75   72.25  37.4  101.800000     86.4  100.040854   \n",
              "4    1.03400  24.0  184.25   71.25  34.4   97.300000    100.0  101.900000   \n",
              "..       ...   ...     ...     ...   ...         ...      ...         ...   \n",
              "247  1.07409  70.0  134.25   67.00  34.9   89.200000     83.6   88.800000   \n",
              "248  1.02360  72.0  201.00   69.75  40.9  108.500000    105.0  104.500000   \n",
              "249  1.03280  72.0  186.75   66.00  38.9  111.100000    111.5  101.700000   \n",
              "250  1.03990  72.0  190.75   70.50  38.9  108.101661    101.3   97.800000   \n",
              "251  1.02710  74.0  207.50   70.00  40.8  112.400000    108.5  107.100000   \n",
              "\n",
              "     Thigh       Knee  Ankle     Biceps    Forearm      Wrist  BodyFat  \n",
              "0     59.0  37.300000   21.9  32.000000  28.238743  17.100000     12.3  \n",
              "1     58.7  37.300000   23.4  30.500000  28.900000  18.200000      6.1  \n",
              "2     59.6  38.900000   24.0  28.800000  27.150830  16.600000     25.3  \n",
              "3     60.1  37.300000   22.8  33.187769  29.400000  18.200000     10.4  \n",
              "4     63.2  42.200000   24.0  32.200000  27.700000  17.700000     28.7  \n",
              "..     ...        ...    ...        ...        ...        ...      ...  \n",
              "247   49.6  34.800000   21.5  25.600000  25.700000  18.500000     11.0  \n",
              "248   59.6  40.800000   23.2  35.200000  28.600000  20.100000     33.6  \n",
              "249   60.3  37.300000   21.5  31.300000  27.200000  18.442059     29.3  \n",
              "250   56.0  39.321092   22.7  30.500000  29.400000  19.800000     26.0  \n",
              "251   59.3  42.200000   24.6  33.700000  30.000000  20.900000     31.9  \n",
              "\n",
              "[252 rows x 15 columns]"
            ],
            "text/html": [
              "\n",
              "  <div id=\"df-7dede986-56f6-4e9f-8663-9ad572e52fb1\">\n",
              "    <div class=\"colab-df-container\">\n",
              "      <div>\n",
              "<style scoped>\n",
              "    .dataframe tbody tr th:only-of-type {\n",
              "        vertical-align: middle;\n",
              "    }\n",
              "\n",
              "    .dataframe tbody tr th {\n",
              "        vertical-align: top;\n",
              "    }\n",
              "\n",
              "    .dataframe thead th {\n",
              "        text-align: right;\n",
              "    }\n",
              "</style>\n",
              "<table border=\"1\" class=\"dataframe\">\n",
              "  <thead>\n",
              "    <tr style=\"text-align: right;\">\n",
              "      <th></th>\n",
              "      <th>Density</th>\n",
              "      <th>Age</th>\n",
              "      <th>Weight</th>\n",
              "      <th>Height</th>\n",
              "      <th>Neck</th>\n",
              "      <th>Chest</th>\n",
              "      <th>Abdomen</th>\n",
              "      <th>Hip</th>\n",
              "      <th>Thigh</th>\n",
              "      <th>Knee</th>\n",
              "      <th>Ankle</th>\n",
              "      <th>Biceps</th>\n",
              "      <th>Forearm</th>\n",
              "      <th>Wrist</th>\n",
              "      <th>BodyFat</th>\n",
              "    </tr>\n",
              "  </thead>\n",
              "  <tbody>\n",
              "    <tr>\n",
              "      <th>0</th>\n",
              "      <td>1.07080</td>\n",
              "      <td>23.0</td>\n",
              "      <td>154.25</td>\n",
              "      <td>67.75</td>\n",
              "      <td>36.2</td>\n",
              "      <td>93.100000</td>\n",
              "      <td>85.2</td>\n",
              "      <td>94.500000</td>\n",
              "      <td>59.0</td>\n",
              "      <td>37.300000</td>\n",
              "      <td>21.9</td>\n",
              "      <td>32.000000</td>\n",
              "      <td>28.238743</td>\n",
              "      <td>17.100000</td>\n",
              "      <td>12.3</td>\n",
              "    </tr>\n",
              "    <tr>\n",
              "      <th>1</th>\n",
              "      <td>1.08530</td>\n",
              "      <td>22.0</td>\n",
              "      <td>173.25</td>\n",
              "      <td>72.25</td>\n",
              "      <td>38.5</td>\n",
              "      <td>95.695554</td>\n",
              "      <td>83.0</td>\n",
              "      <td>98.700000</td>\n",
              "      <td>58.7</td>\n",
              "      <td>37.300000</td>\n",
              "      <td>23.4</td>\n",
              "      <td>30.500000</td>\n",
              "      <td>28.900000</td>\n",
              "      <td>18.200000</td>\n",
              "      <td>6.1</td>\n",
              "    </tr>\n",
              "    <tr>\n",
              "      <th>2</th>\n",
              "      <td>1.04140</td>\n",
              "      <td>22.0</td>\n",
              "      <td>154.00</td>\n",
              "      <td>66.25</td>\n",
              "      <td>34.0</td>\n",
              "      <td>95.800000</td>\n",
              "      <td>87.9</td>\n",
              "      <td>99.200000</td>\n",
              "      <td>59.6</td>\n",
              "      <td>38.900000</td>\n",
              "      <td>24.0</td>\n",
              "      <td>28.800000</td>\n",
              "      <td>27.150830</td>\n",
              "      <td>16.600000</td>\n",
              "      <td>25.3</td>\n",
              "    </tr>\n",
              "    <tr>\n",
              "      <th>3</th>\n",
              "      <td>1.07510</td>\n",
              "      <td>26.0</td>\n",
              "      <td>184.75</td>\n",
              "      <td>72.25</td>\n",
              "      <td>37.4</td>\n",
              "      <td>101.800000</td>\n",
              "      <td>86.4</td>\n",
              "      <td>100.040854</td>\n",
              "      <td>60.1</td>\n",
              "      <td>37.300000</td>\n",
              "      <td>22.8</td>\n",
              "      <td>33.187769</td>\n",
              "      <td>29.400000</td>\n",
              "      <td>18.200000</td>\n",
              "      <td>10.4</td>\n",
              "    </tr>\n",
              "    <tr>\n",
              "      <th>4</th>\n",
              "      <td>1.03400</td>\n",
              "      <td>24.0</td>\n",
              "      <td>184.25</td>\n",
              "      <td>71.25</td>\n",
              "      <td>34.4</td>\n",
              "      <td>97.300000</td>\n",
              "      <td>100.0</td>\n",
              "      <td>101.900000</td>\n",
              "      <td>63.2</td>\n",
              "      <td>42.200000</td>\n",
              "      <td>24.0</td>\n",
              "      <td>32.200000</td>\n",
              "      <td>27.700000</td>\n",
              "      <td>17.700000</td>\n",
              "      <td>28.7</td>\n",
              "    </tr>\n",
              "    <tr>\n",
              "      <th>...</th>\n",
              "      <td>...</td>\n",
              "      <td>...</td>\n",
              "      <td>...</td>\n",
              "      <td>...</td>\n",
              "      <td>...</td>\n",
              "      <td>...</td>\n",
              "      <td>...</td>\n",
              "      <td>...</td>\n",
              "      <td>...</td>\n",
              "      <td>...</td>\n",
              "      <td>...</td>\n",
              "      <td>...</td>\n",
              "      <td>...</td>\n",
              "      <td>...</td>\n",
              "      <td>...</td>\n",
              "    </tr>\n",
              "    <tr>\n",
              "      <th>247</th>\n",
              "      <td>1.07409</td>\n",
              "      <td>70.0</td>\n",
              "      <td>134.25</td>\n",
              "      <td>67.00</td>\n",
              "      <td>34.9</td>\n",
              "      <td>89.200000</td>\n",
              "      <td>83.6</td>\n",
              "      <td>88.800000</td>\n",
              "      <td>49.6</td>\n",
              "      <td>34.800000</td>\n",
              "      <td>21.5</td>\n",
              "      <td>25.600000</td>\n",
              "      <td>25.700000</td>\n",
              "      <td>18.500000</td>\n",
              "      <td>11.0</td>\n",
              "    </tr>\n",
              "    <tr>\n",
              "      <th>248</th>\n",
              "      <td>1.02360</td>\n",
              "      <td>72.0</td>\n",
              "      <td>201.00</td>\n",
              "      <td>69.75</td>\n",
              "      <td>40.9</td>\n",
              "      <td>108.500000</td>\n",
              "      <td>105.0</td>\n",
              "      <td>104.500000</td>\n",
              "      <td>59.6</td>\n",
              "      <td>40.800000</td>\n",
              "      <td>23.2</td>\n",
              "      <td>35.200000</td>\n",
              "      <td>28.600000</td>\n",
              "      <td>20.100000</td>\n",
              "      <td>33.6</td>\n",
              "    </tr>\n",
              "    <tr>\n",
              "      <th>249</th>\n",
              "      <td>1.03280</td>\n",
              "      <td>72.0</td>\n",
              "      <td>186.75</td>\n",
              "      <td>66.00</td>\n",
              "      <td>38.9</td>\n",
              "      <td>111.100000</td>\n",
              "      <td>111.5</td>\n",
              "      <td>101.700000</td>\n",
              "      <td>60.3</td>\n",
              "      <td>37.300000</td>\n",
              "      <td>21.5</td>\n",
              "      <td>31.300000</td>\n",
              "      <td>27.200000</td>\n",
              "      <td>18.442059</td>\n",
              "      <td>29.3</td>\n",
              "    </tr>\n",
              "    <tr>\n",
              "      <th>250</th>\n",
              "      <td>1.03990</td>\n",
              "      <td>72.0</td>\n",
              "      <td>190.75</td>\n",
              "      <td>70.50</td>\n",
              "      <td>38.9</td>\n",
              "      <td>108.101661</td>\n",
              "      <td>101.3</td>\n",
              "      <td>97.800000</td>\n",
              "      <td>56.0</td>\n",
              "      <td>39.321092</td>\n",
              "      <td>22.7</td>\n",
              "      <td>30.500000</td>\n",
              "      <td>29.400000</td>\n",
              "      <td>19.800000</td>\n",
              "      <td>26.0</td>\n",
              "    </tr>\n",
              "    <tr>\n",
              "      <th>251</th>\n",
              "      <td>1.02710</td>\n",
              "      <td>74.0</td>\n",
              "      <td>207.50</td>\n",
              "      <td>70.00</td>\n",
              "      <td>40.8</td>\n",
              "      <td>112.400000</td>\n",
              "      <td>108.5</td>\n",
              "      <td>107.100000</td>\n",
              "      <td>59.3</td>\n",
              "      <td>42.200000</td>\n",
              "      <td>24.6</td>\n",
              "      <td>33.700000</td>\n",
              "      <td>30.000000</td>\n",
              "      <td>20.900000</td>\n",
              "      <td>31.9</td>\n",
              "    </tr>\n",
              "  </tbody>\n",
              "</table>\n",
              "<p>252 rows × 15 columns</p>\n",
              "</div>\n",
              "      <button class=\"colab-df-convert\" onclick=\"convertToInteractive('df-7dede986-56f6-4e9f-8663-9ad572e52fb1')\"\n",
              "              title=\"Convert this dataframe to an interactive table.\"\n",
              "              style=\"display:none;\">\n",
              "        \n",
              "  <svg xmlns=\"http://www.w3.org/2000/svg\" height=\"24px\"viewBox=\"0 0 24 24\"\n",
              "       width=\"24px\">\n",
              "    <path d=\"M0 0h24v24H0V0z\" fill=\"none\"/>\n",
              "    <path d=\"M18.56 5.44l.94 2.06.94-2.06 2.06-.94-2.06-.94-.94-2.06-.94 2.06-2.06.94zm-11 1L8.5 8.5l.94-2.06 2.06-.94-2.06-.94L8.5 2.5l-.94 2.06-2.06.94zm10 10l.94 2.06.94-2.06 2.06-.94-2.06-.94-.94-2.06-.94 2.06-2.06.94z\"/><path d=\"M17.41 7.96l-1.37-1.37c-.4-.4-.92-.59-1.43-.59-.52 0-1.04.2-1.43.59L10.3 9.45l-7.72 7.72c-.78.78-.78 2.05 0 2.83L4 21.41c.39.39.9.59 1.41.59.51 0 1.02-.2 1.41-.59l7.78-7.78 2.81-2.81c.8-.78.8-2.07 0-2.86zM5.41 20L4 18.59l7.72-7.72 1.47 1.35L5.41 20z\"/>\n",
              "  </svg>\n",
              "      </button>\n",
              "      \n",
              "  <style>\n",
              "    .colab-df-container {\n",
              "      display:flex;\n",
              "      flex-wrap:wrap;\n",
              "      gap: 12px;\n",
              "    }\n",
              "\n",
              "    .colab-df-convert {\n",
              "      background-color: #E8F0FE;\n",
              "      border: none;\n",
              "      border-radius: 50%;\n",
              "      cursor: pointer;\n",
              "      display: none;\n",
              "      fill: #1967D2;\n",
              "      height: 32px;\n",
              "      padding: 0 0 0 0;\n",
              "      width: 32px;\n",
              "    }\n",
              "\n",
              "    .colab-df-convert:hover {\n",
              "      background-color: #E2EBFA;\n",
              "      box-shadow: 0px 1px 2px rgba(60, 64, 67, 0.3), 0px 1px 3px 1px rgba(60, 64, 67, 0.15);\n",
              "      fill: #174EA6;\n",
              "    }\n",
              "\n",
              "    [theme=dark] .colab-df-convert {\n",
              "      background-color: #3B4455;\n",
              "      fill: #D2E3FC;\n",
              "    }\n",
              "\n",
              "    [theme=dark] .colab-df-convert:hover {\n",
              "      background-color: #434B5C;\n",
              "      box-shadow: 0px 1px 3px 1px rgba(0, 0, 0, 0.15);\n",
              "      filter: drop-shadow(0px 1px 2px rgba(0, 0, 0, 0.3));\n",
              "      fill: #FFFFFF;\n",
              "    }\n",
              "  </style>\n",
              "\n",
              "      <script>\n",
              "        const buttonEl =\n",
              "          document.querySelector('#df-7dede986-56f6-4e9f-8663-9ad572e52fb1 button.colab-df-convert');\n",
              "        buttonEl.style.display =\n",
              "          google.colab.kernel.accessAllowed ? 'block' : 'none';\n",
              "\n",
              "        async function convertToInteractive(key) {\n",
              "          const element = document.querySelector('#df-7dede986-56f6-4e9f-8663-9ad572e52fb1');\n",
              "          const dataTable =\n",
              "            await google.colab.kernel.invokeFunction('convertToInteractive',\n",
              "                                                     [key], {});\n",
              "          if (!dataTable) return;\n",
              "\n",
              "          const docLinkHtml = 'Like what you see? Visit the ' +\n",
              "            '<a target=\"_blank\" href=https://colab.research.google.com/notebooks/data_table.ipynb>data table notebook</a>'\n",
              "            + ' to learn more about interactive tables.';\n",
              "          element.innerHTML = '';\n",
              "          dataTable['output_type'] = 'display_data';\n",
              "          await google.colab.output.renderOutput(dataTable, element);\n",
              "          const docLink = document.createElement('div');\n",
              "          docLink.innerHTML = docLinkHtml;\n",
              "          element.appendChild(docLink);\n",
              "        }\n",
              "      </script>\n",
              "    </div>\n",
              "  </div>\n",
              "  "
            ]
          },
          "metadata": {},
          "execution_count": 12
        }
      ]
    },
    {
      "cell_type": "code",
      "source": [
        "arr = data['BodyFat']\n",
        "print(max(arr))\n",
        "\n",
        "cl = []\n",
        "for val in arr:\n",
        "    if 0 < val <= 10:\n",
        "        cl.append(0)\n",
        "    elif 10 < val <= 20:\n",
        "        cl.append(1)\n",
        "    elif 20 < val <= 30:\n",
        "        cl.append(2)\n",
        "    elif 30 < val <= 40:\n",
        "        cl.append(3)\n",
        "    else:\n",
        "        cl.append(4)\n",
        "        \n",
        "print(cl)"
      ],
      "metadata": {
        "colab": {
          "base_uri": "https://localhost:8080/"
        },
        "id": "a7XFfzVhnGXY",
        "outputId": "0f3b5a0d-94c3-44a9-a3a3-256a75222c2d"
      },
      "execution_count": 13,
      "outputs": [
        {
          "output_type": "stream",
          "name": "stdout",
          "text": [
            "47.5\n",
            "[1, 0, 2, 1, 2, 2, 1, 1, 0, 1, 0, 0, 2, 2, 2, 2, 2, 2, 1, 1, 1, 1, 1, 1, 1, 0, 0, 2, 0, 0, 1, 0, 1, 2, 3, 4, 2, 2, 3, 3, 3, 3, 3, 3, 0, 1, 1, 0, 1, 0, 1, 0, 0, 0, 0, 2, 2, 2, 3, 2, 2, 2, 3, 2, 3, 2, 2, 1, 0, 1, 2, 0, 0, 1, 1, 1, 0, 2, 2, 1, 3, 2, 1, 2, 2, 2, 1, 2, 0, 1, 2, 1, 0, 2, 0, 1, 0, 1, 1, 2, 2, 2, 2, 2, 2, 1, 1, 1, 1, 2, 1, 2, 2, 2, 2, 1, 2, 1, 2, 1, 2, 2, 1, 1, 1, 1, 2, 1, 2, 1, 1, 2, 2, 2, 2, 2, 2, 2, 2, 2, 2, 1, 2, 0, 1, 1, 1, 2, 0, 2, 0, 1, 1, 1, 2, 1, 3, 0, 1, 2, 0, 1, 1, 1, 2, 1, 2, 2, 3, 1, 0, 0, 2, 1, 2, 0, 1, 2, 2, 1, 2, 4, 1, 1, 1, 0, 2, 2, 2, 2, 1, 3, 1, 2, 2, 2, 2, 1, 0, 2, 1, 2, 2, 0, 3, 1, 3, 3, 0, 1, 0, 2, 1, 1, 1, 4, 1, 0, 2, 1, 1, 2, 1, 0, 1, 1, 1, 2, 1, 1, 1, 1, 1, 2, 2, 1, 2, 2, 1, 2, 1, 3, 3, 3, 2, 1, 3, 1, 3, 2, 2, 3]\n"
          ]
        }
      ]
    },
    {
      "cell_type": "code",
      "source": [
        "# create new dataframe with feature \"Class\"\n",
        "data_handling['Class'] = cl\n",
        "data_handling.head()"
      ],
      "metadata": {
        "colab": {
          "base_uri": "https://localhost:8080/",
          "height": 0
        },
        "id": "iayKxqtCnkZ2",
        "outputId": "a53b184f-e5e9-4d7b-d10c-941a4cc13ec3"
      },
      "execution_count": 14,
      "outputs": [
        {
          "output_type": "stream",
          "name": "stderr",
          "text": [
            "/usr/local/lib/python3.7/dist-packages/ipykernel_launcher.py:2: SettingWithCopyWarning: \n",
            "A value is trying to be set on a copy of a slice from a DataFrame.\n",
            "Try using .loc[row_indexer,col_indexer] = value instead\n",
            "\n",
            "See the caveats in the documentation: https://pandas.pydata.org/pandas-docs/stable/user_guide/indexing.html#returning-a-view-versus-a-copy\n",
            "  \n"
          ]
        },
        {
          "output_type": "execute_result",
          "data": {
            "text/plain": [
              "   Density   Age  Weight  Height  Neck       Chest  Abdomen         Hip  \\\n",
              "0   1.0708  23.0  154.25   67.75  36.2   93.100000     85.2   94.500000   \n",
              "1   1.0853  22.0  173.25   72.25  38.5   95.695554     83.0   98.700000   \n",
              "2   1.0414  22.0  154.00   66.25  34.0   95.800000     87.9   99.200000   \n",
              "3   1.0751  26.0  184.75   72.25  37.4  101.800000     86.4  100.040854   \n",
              "4   1.0340  24.0  184.25   71.25  34.4   97.300000    100.0  101.900000   \n",
              "\n",
              "   Thigh  Knee  Ankle     Biceps    Forearm  Wrist  BodyFat  Class  \n",
              "0   59.0  37.3   21.9  32.000000  28.238743   17.1     12.3      1  \n",
              "1   58.7  37.3   23.4  30.500000  28.900000   18.2      6.1      0  \n",
              "2   59.6  38.9   24.0  28.800000  27.150830   16.6     25.3      2  \n",
              "3   60.1  37.3   22.8  33.187769  29.400000   18.2     10.4      1  \n",
              "4   63.2  42.2   24.0  32.200000  27.700000   17.7     28.7      2  "
            ],
            "text/html": [
              "\n",
              "  <div id=\"df-852f7f36-8582-477b-aefa-9131b9f9081b\">\n",
              "    <div class=\"colab-df-container\">\n",
              "      <div>\n",
              "<style scoped>\n",
              "    .dataframe tbody tr th:only-of-type {\n",
              "        vertical-align: middle;\n",
              "    }\n",
              "\n",
              "    .dataframe tbody tr th {\n",
              "        vertical-align: top;\n",
              "    }\n",
              "\n",
              "    .dataframe thead th {\n",
              "        text-align: right;\n",
              "    }\n",
              "</style>\n",
              "<table border=\"1\" class=\"dataframe\">\n",
              "  <thead>\n",
              "    <tr style=\"text-align: right;\">\n",
              "      <th></th>\n",
              "      <th>Density</th>\n",
              "      <th>Age</th>\n",
              "      <th>Weight</th>\n",
              "      <th>Height</th>\n",
              "      <th>Neck</th>\n",
              "      <th>Chest</th>\n",
              "      <th>Abdomen</th>\n",
              "      <th>Hip</th>\n",
              "      <th>Thigh</th>\n",
              "      <th>Knee</th>\n",
              "      <th>Ankle</th>\n",
              "      <th>Biceps</th>\n",
              "      <th>Forearm</th>\n",
              "      <th>Wrist</th>\n",
              "      <th>BodyFat</th>\n",
              "      <th>Class</th>\n",
              "    </tr>\n",
              "  </thead>\n",
              "  <tbody>\n",
              "    <tr>\n",
              "      <th>0</th>\n",
              "      <td>1.0708</td>\n",
              "      <td>23.0</td>\n",
              "      <td>154.25</td>\n",
              "      <td>67.75</td>\n",
              "      <td>36.2</td>\n",
              "      <td>93.100000</td>\n",
              "      <td>85.2</td>\n",
              "      <td>94.500000</td>\n",
              "      <td>59.0</td>\n",
              "      <td>37.3</td>\n",
              "      <td>21.9</td>\n",
              "      <td>32.000000</td>\n",
              "      <td>28.238743</td>\n",
              "      <td>17.1</td>\n",
              "      <td>12.3</td>\n",
              "      <td>1</td>\n",
              "    </tr>\n",
              "    <tr>\n",
              "      <th>1</th>\n",
              "      <td>1.0853</td>\n",
              "      <td>22.0</td>\n",
              "      <td>173.25</td>\n",
              "      <td>72.25</td>\n",
              "      <td>38.5</td>\n",
              "      <td>95.695554</td>\n",
              "      <td>83.0</td>\n",
              "      <td>98.700000</td>\n",
              "      <td>58.7</td>\n",
              "      <td>37.3</td>\n",
              "      <td>23.4</td>\n",
              "      <td>30.500000</td>\n",
              "      <td>28.900000</td>\n",
              "      <td>18.2</td>\n",
              "      <td>6.1</td>\n",
              "      <td>0</td>\n",
              "    </tr>\n",
              "    <tr>\n",
              "      <th>2</th>\n",
              "      <td>1.0414</td>\n",
              "      <td>22.0</td>\n",
              "      <td>154.00</td>\n",
              "      <td>66.25</td>\n",
              "      <td>34.0</td>\n",
              "      <td>95.800000</td>\n",
              "      <td>87.9</td>\n",
              "      <td>99.200000</td>\n",
              "      <td>59.6</td>\n",
              "      <td>38.9</td>\n",
              "      <td>24.0</td>\n",
              "      <td>28.800000</td>\n",
              "      <td>27.150830</td>\n",
              "      <td>16.6</td>\n",
              "      <td>25.3</td>\n",
              "      <td>2</td>\n",
              "    </tr>\n",
              "    <tr>\n",
              "      <th>3</th>\n",
              "      <td>1.0751</td>\n",
              "      <td>26.0</td>\n",
              "      <td>184.75</td>\n",
              "      <td>72.25</td>\n",
              "      <td>37.4</td>\n",
              "      <td>101.800000</td>\n",
              "      <td>86.4</td>\n",
              "      <td>100.040854</td>\n",
              "      <td>60.1</td>\n",
              "      <td>37.3</td>\n",
              "      <td>22.8</td>\n",
              "      <td>33.187769</td>\n",
              "      <td>29.400000</td>\n",
              "      <td>18.2</td>\n",
              "      <td>10.4</td>\n",
              "      <td>1</td>\n",
              "    </tr>\n",
              "    <tr>\n",
              "      <th>4</th>\n",
              "      <td>1.0340</td>\n",
              "      <td>24.0</td>\n",
              "      <td>184.25</td>\n",
              "      <td>71.25</td>\n",
              "      <td>34.4</td>\n",
              "      <td>97.300000</td>\n",
              "      <td>100.0</td>\n",
              "      <td>101.900000</td>\n",
              "      <td>63.2</td>\n",
              "      <td>42.2</td>\n",
              "      <td>24.0</td>\n",
              "      <td>32.200000</td>\n",
              "      <td>27.700000</td>\n",
              "      <td>17.7</td>\n",
              "      <td>28.7</td>\n",
              "      <td>2</td>\n",
              "    </tr>\n",
              "  </tbody>\n",
              "</table>\n",
              "</div>\n",
              "      <button class=\"colab-df-convert\" onclick=\"convertToInteractive('df-852f7f36-8582-477b-aefa-9131b9f9081b')\"\n",
              "              title=\"Convert this dataframe to an interactive table.\"\n",
              "              style=\"display:none;\">\n",
              "        \n",
              "  <svg xmlns=\"http://www.w3.org/2000/svg\" height=\"24px\"viewBox=\"0 0 24 24\"\n",
              "       width=\"24px\">\n",
              "    <path d=\"M0 0h24v24H0V0z\" fill=\"none\"/>\n",
              "    <path d=\"M18.56 5.44l.94 2.06.94-2.06 2.06-.94-2.06-.94-.94-2.06-.94 2.06-2.06.94zm-11 1L8.5 8.5l.94-2.06 2.06-.94-2.06-.94L8.5 2.5l-.94 2.06-2.06.94zm10 10l.94 2.06.94-2.06 2.06-.94-2.06-.94-.94-2.06-.94 2.06-2.06.94z\"/><path d=\"M17.41 7.96l-1.37-1.37c-.4-.4-.92-.59-1.43-.59-.52 0-1.04.2-1.43.59L10.3 9.45l-7.72 7.72c-.78.78-.78 2.05 0 2.83L4 21.41c.39.39.9.59 1.41.59.51 0 1.02-.2 1.41-.59l7.78-7.78 2.81-2.81c.8-.78.8-2.07 0-2.86zM5.41 20L4 18.59l7.72-7.72 1.47 1.35L5.41 20z\"/>\n",
              "  </svg>\n",
              "      </button>\n",
              "      \n",
              "  <style>\n",
              "    .colab-df-container {\n",
              "      display:flex;\n",
              "      flex-wrap:wrap;\n",
              "      gap: 12px;\n",
              "    }\n",
              "\n",
              "    .colab-df-convert {\n",
              "      background-color: #E8F0FE;\n",
              "      border: none;\n",
              "      border-radius: 50%;\n",
              "      cursor: pointer;\n",
              "      display: none;\n",
              "      fill: #1967D2;\n",
              "      height: 32px;\n",
              "      padding: 0 0 0 0;\n",
              "      width: 32px;\n",
              "    }\n",
              "\n",
              "    .colab-df-convert:hover {\n",
              "      background-color: #E2EBFA;\n",
              "      box-shadow: 0px 1px 2px rgba(60, 64, 67, 0.3), 0px 1px 3px 1px rgba(60, 64, 67, 0.15);\n",
              "      fill: #174EA6;\n",
              "    }\n",
              "\n",
              "    [theme=dark] .colab-df-convert {\n",
              "      background-color: #3B4455;\n",
              "      fill: #D2E3FC;\n",
              "    }\n",
              "\n",
              "    [theme=dark] .colab-df-convert:hover {\n",
              "      background-color: #434B5C;\n",
              "      box-shadow: 0px 1px 3px 1px rgba(0, 0, 0, 0.15);\n",
              "      filter: drop-shadow(0px 1px 2px rgba(0, 0, 0, 0.3));\n",
              "      fill: #FFFFFF;\n",
              "    }\n",
              "  </style>\n",
              "\n",
              "      <script>\n",
              "        const buttonEl =\n",
              "          document.querySelector('#df-852f7f36-8582-477b-aefa-9131b9f9081b button.colab-df-convert');\n",
              "        buttonEl.style.display =\n",
              "          google.colab.kernel.accessAllowed ? 'block' : 'none';\n",
              "\n",
              "        async function convertToInteractive(key) {\n",
              "          const element = document.querySelector('#df-852f7f36-8582-477b-aefa-9131b9f9081b');\n",
              "          const dataTable =\n",
              "            await google.colab.kernel.invokeFunction('convertToInteractive',\n",
              "                                                     [key], {});\n",
              "          if (!dataTable) return;\n",
              "\n",
              "          const docLinkHtml = 'Like what you see? Visit the ' +\n",
              "            '<a target=\"_blank\" href=https://colab.research.google.com/notebooks/data_table.ipynb>data table notebook</a>'\n",
              "            + ' to learn more about interactive tables.';\n",
              "          element.innerHTML = '';\n",
              "          dataTable['output_type'] = 'display_data';\n",
              "          await google.colab.output.renderOutput(dataTable, element);\n",
              "          const docLink = document.createElement('div');\n",
              "          docLink.innerHTML = docLinkHtml;\n",
              "          element.appendChild(docLink);\n",
              "        }\n",
              "      </script>\n",
              "    </div>\n",
              "  </div>\n",
              "  "
            ]
          },
          "metadata": {},
          "execution_count": 14
        }
      ]
    },
    {
      "cell_type": "code",
      "source": [
        "c = data_handling['Class']\n",
        "c.value_counts().plot.pie(figsize = (8, 8), autopct=\"%.2f\")"
      ],
      "metadata": {
        "colab": {
          "base_uri": "https://localhost:8080/",
          "height": 0
        },
        "id": "SqioxTU9naiD",
        "outputId": "2e0ba119-9211-4830-d00d-52f6e28a2456"
      },
      "execution_count": 15,
      "outputs": [
        {
          "output_type": "execute_result",
          "data": {
            "text/plain": [
              "<matplotlib.axes._subplots.AxesSubplot at 0x7fdce69ff3d0>"
            ]
          },
          "metadata": {},
          "execution_count": 15
        },
        {
          "output_type": "display_data",
          "data": {
            "text/plain": [
              "<Figure size 576x576 with 1 Axes>"
            ],
            "image/png": "[encoded data removed]"
          },
          "metadata": {}
        }
      ]
    },
    {
      "cell_type": "code",
      "source": [
        "d = data_handling.drop(columns=['Class'])\n",
        "c.shape, d.shape"
      ],
      "metadata": {
        "colab": {
          "base_uri": "https://localhost:8080/"
        },
        "id": "FKslfKrroQ6U",
        "outputId": "62c0e332-0db0-4608-df97-ea95b98b5f25"
      },
      "execution_count": 16,
      "outputs": [
        {
          "output_type": "execute_result",
          "data": {
            "text/plain": [
              "((252,), (252, 15))"
            ]
          },
          "metadata": {},
          "execution_count": 16
        }
      ]
    },
    {
      "cell_type": "code",
      "source": [
        "data.hist(column='BodyFat', bins=5, grid=False, rwidth=.9, color='purple')"
      ],
      "metadata": {
        "colab": {
          "base_uri": "https://localhost:8080/",
          "height": 0
        },
        "id": "lFahcSjOBG7e",
        "outputId": "6ae98887-f66f-4738-9c01-63aafd638cbf"
      },
      "execution_count": 17,
      "outputs": [
        {
          "output_type": "execute_result",
          "data": {
            "text/plain": [
              "array([[<matplotlib.axes._subplots.AxesSubplot object at 0x7fdce6944b10>]],\n",
              "      dtype=object)"
            ]
          },
          "metadata": {},
          "execution_count": 17
        },
        {
          "output_type": "display_data",
          "data": {
            "text/plain": [
              "<Figure size 432x288 with 1 Axes>"
            ],
            "image/png": "[encoded data removed]"
          },
          "metadata": {
            "needs_background": "light"
          }
        }
      ]
    },
    {
      "cell_type": "markdown",
      "source": [
        "## 1: Oversamping"
      ],
      "metadata": {
        "id": "pt3dmjfJCk88"
      }
    },
    {
      "cell_type": "markdown",
      "source": [
        "### a: RandomOversampling"
      ],
      "metadata": {
        "id": "QN1DtYtqGFvX"
      }
    },
    {
      "cell_type": "code",
      "source": [
        "from imblearn.over_sampling import RandomOverSampler"
      ],
      "metadata": {
        "id": "IsFm7nTcGNEX"
      },
      "execution_count": null,
      "outputs": []
    },
    {
      "cell_type": "code",
      "source": [
        "ros = RandomOverSampler(random_state= 3)\n",
        "d_ros, c_ros = ros.fit_resample(d, c)\n",
        "d_ros.shape, c_ros.shape"
      ],
      "metadata": {
        "colab": {
          "base_uri": "https://localhost:8080/"
        },
        "id": "RpZB__MTGRG5",
        "outputId": "44d12f06-831e-497f-87ce-f887ba5063f9"
      },
      "execution_count": null,
      "outputs": [
        {
          "output_type": "execute_result",
          "data": {
            "text/plain": [
              "((475, 15), (475,))"
            ]
          },
          "metadata": {},
          "execution_count": 17
        }
      ]
    },
    {
      "cell_type": "code",
      "source": [
        "c_ros.value_counts().plot.pie(figsize = (10, 10), autopct=\"%.2f\")"
      ],
      "metadata": {
        "colab": {
          "base_uri": "https://localhost:8080/",
          "height": 592
        },
        "id": "P4-3UtIep_72",
        "outputId": "08c49d31-5032-4ff8-ecbe-0bab3c11395a"
      },
      "execution_count": null,
      "outputs": [
        {
          "output_type": "execute_result",
          "data": {
            "text/plain": [
              "<matplotlib.axes._subplots.AxesSubplot at 0x7f8096483810>"
            ]
          },
          "metadata": {},
          "execution_count": 65
        },
        {
          "output_type": "display_data",
          "data": {
            "text/plain": [
              "<Figure size 720x720 with 1 Axes>"
            ],
            "image/png": "[encoded data removed]"
          },
          "metadata": {}
        }
      ]
    },
    {
      "cell_type": "code",
      "source": [
        "c_ros.hist(bins=5, grid=False, rwidth=.9, color='purple')"
      ],
      "metadata": {
        "colab": {
          "base_uri": "https://localhost:8080/",
          "height": 282
        },
        "id": "McbKKQO9CElz",
        "outputId": "5ca62bbb-538a-4ee2-8f7b-ec0a9ed426d2"
      },
      "execution_count": null,
      "outputs": [
        {
          "output_type": "execute_result",
          "data": {
            "text/plain": [
              "<matplotlib.axes._subplots.AxesSubplot at 0x7f8094282850>"
            ]
          },
          "metadata": {},
          "execution_count": 70
        },
        {
          "output_type": "display_data",
          "data": {
            "text/plain": [
              "<Figure size 432x288 with 1 Axes>"
            ],
            "image/png": "[encoded data removed]"
          },
          "metadata": {
            "needs_background": "light"
          }
        }
      ]
    },
    {
      "cell_type": "code",
      "source": [
        "x_ros = d_ros.iloc[:, :-1].values\n",
        "y_ros = d_ros.iloc[:, -1].values\n",
        "print(x_ros.shape, y_ros.shape)\n",
        "y_ros"
      ],
      "metadata": {
        "colab": {
          "base_uri": "https://localhost:8080/"
        },
        "id": "4K1uMNCfqYXc",
        "outputId": "3daa4fae-03d0-4dfc-eb66-cb921ee02af6"
      },
      "execution_count": null,
      "outputs": [
        {
          "output_type": "stream",
          "name": "stdout",
          "text": [
            "(475, 14) (475,)\n"
          ]
        },
        {
          "output_type": "execute_result",
          "data": {
            "text/plain": [
              "array([12.3,  6.1, 25.3, 10.4, 28.7, 20.9, 19.2, 12.4,  4.1, 11.7,  7.1,\n",
              "        7.8, 20.8, 21.2, 22.1, 20.9, 29. , 22.9, 16. , 16.5, 19.1, 15.2,\n",
              "       15.6, 17.7, 14. ,  3.7,  7.9, 22.9,  3.7,  8.8, 11.9,  5.7, 11.8,\n",
              "       21.3, 32.3, 40.1, 24.2, 28.4, 35.2, 32.6, 34.5, 32.9, 31.6, 32. ,\n",
              "        7.7, 13.9, 10.8,  5.6, 13.6,  4. , 10.2,  6.6,  8. ,  6.3,  3.9,\n",
              "       22.6, 20.4, 28. , 31.5, 24.6, 26.1, 29.8, 30.7, 25.8, 32.3, 30. ,\n",
              "       21.5, 13.8,  6.3, 12.9, 24.3,  8.8,  8.5, 13.5, 11.8, 18.5,  8.8,\n",
              "       22.2, 21.5, 18.8, 31.4, 26.8, 18.4, 27. , 27. , 26.6, 14.9, 23.1,\n",
              "        8.3, 14.1, 20.5, 18.2,  8.5, 24.9,  9. , 17.4,  9.6, 11.3, 17.8,\n",
              "       22.2, 21.2, 20.4, 20.1, 22.3, 25.4, 18. , 19.3, 18.3, 17.3, 21.4,\n",
              "       19.7, 28. , 22.1, 21.3, 26.7, 16.7, 20.1, 13.9, 25.8, 18.1, 27.9,\n",
              "       25.3, 14.7, 16. , 13.8, 17.5, 27.2, 17.4, 20.8, 14.9, 18.1, 22.7,\n",
              "       23.6, 26.1, 24.4, 27.1, 21.8, 29.4, 22.4, 20.4, 24.9, 18.3, 23.3,\n",
              "        9.4, 10.3, 14.2, 19.2, 29.6,  5.3, 25.2,  9.4, 19.6, 10.1, 16.5,\n",
              "       21. , 17.3, 31.2, 10. , 12.5, 22.5,  9.4, 14.6, 13. , 15.1, 27.3,\n",
              "       19.2, 21.8, 20.3, 34.3, 16.5,  3. ,  0.7, 20.5, 16.9, 25.3,  9.9,\n",
              "       13.1, 29.9, 22.5, 16.9, 26.6,  0. , 11.5, 12.1, 17.5,  8.6, 23.6,\n",
              "       20.4, 20.5, 24.4, 11.4, 38.1, 15.9, 24.7, 22.8, 25.5, 22. , 17.7,\n",
              "        6.6, 23.6, 12.2, 22.1, 28.7,  6. , 34.8, 16.6, 32.9, 32.8,  9.6,\n",
              "       10.8,  7.1, 27.2, 19.5, 18.7, 19.5, 47.5, 13.6,  7.5, 24.5, 15. ,\n",
              "       12.4, 26. , 11.5,  5.2, 10.9, 12.5, 14.8, 25.2, 14.9, 17. , 10.6,\n",
              "       16.1, 15.4, 26.7, 25.8, 18.6, 24.8, 27.3, 12.4, 29.9, 17. , 35. ,\n",
              "       30.4, 32.6, 29. , 15.2, 30.2, 11. , 33.6, 29.3, 26. , 31.9,  9.4,\n",
              "        7.8,  5.7,  6.1,  8.5,  8.8,  5.6,  5.6,  8.5,  5.2,  8.6,  8.3,\n",
              "        3. ,  6.3,  9.4,  8.8,  9.4,  9. ,  7.1,  7.1,  4.1,  9.4,  7.9,\n",
              "        6.6,  3. ,  9.4,  8.8,  6.6,  3.9,  7.5,  8.3,  0.7,  8.5,  6.3,\n",
              "        9.4,  6.1,  6.1,  8.5,  7.5,  8.8,  7.5,  6.6,  4.1,  8.5,  5.6,\n",
              "        7.1,  9.6, 10. ,  6.3,  6.3,  8.6,  6.3,  8.5,  4. ,  8.6,  9.9,\n",
              "       11.8, 13.9, 17.8, 32.8, 35.2, 30.2, 35. , 30.4, 32.6, 32.9, 30.7,\n",
              "       34.3, 32.8, 31.4, 31.9, 32.8, 32.9, 35. , 33.6, 35. , 30.7, 31.5,\n",
              "       32.3, 32.8, 32.3, 35.2, 32.9, 31.2, 30.2, 31.4, 32.8, 32.8, 34.3,\n",
              "       32.9, 34.3, 34.3, 32.6, 32.8, 32.6, 31.5, 30.4, 35.2, 34.5, 38.1,\n",
              "       30.4, 30.2, 35.2, 30.4, 32.6, 34.5, 30.2, 35. , 31.9, 31.2, 31.5,\n",
              "       35.2, 31.2, 32.3, 32.8, 33.6, 31.2, 30.7, 30.2, 30.7, 34.8, 34.3,\n",
              "       32.6, 32.9, 32.3, 30.4, 31.6, 30.2, 32.3, 31.4, 35. ,  0. , 40.1,\n",
              "        0. , 47.5, 40.1, 40.1, 40.1,  0. , 47.5, 40.1, 40.1, 47.5, 40.1,\n",
              "       40.1, 47.5, 40.1, 47.5,  0. , 40.1, 40.1,  0. , 47.5, 40.1, 40.1,\n",
              "       40.1,  0. , 40.1,  0. , 47.5, 40.1, 47.5,  0. , 40.1,  0. ,  0. ,\n",
              "       40.1, 47.5,  0. ,  0. ,  0. , 40.1, 40.1, 40.1, 40.1, 47.5, 40.1,\n",
              "        0. , 47.5, 40.1, 40.1, 40.1, 47.5, 47.5,  0. , 40.1,  0. , 40.1,\n",
              "        0. , 47.5,  0. , 40.1,  0. , 40.1,  0. ,  0. , 40.1, 40.1, 47.5,\n",
              "        0. ,  0. , 47.5,  0. , 47.5, 47.5, 47.5,  0. , 47.5, 47.5, 47.5,\n",
              "       40.1, 47.5,  0. ,  0. ,  0. , 40.1, 40.1,  0. , 47.5,  0. , 40.1,\n",
              "       47.5, 47.5])"
            ]
          },
          "metadata": {},
          "execution_count": 19
        }
      ]
    },
    {
      "cell_type": "code",
      "source": [
        "x_scaled_ros = scaler.fit_transform(x_ros)\n",
        "y_scaled_ros = scaler.fit_transform(y_ros.reshape(-1, 1))\n",
        "y_scaled_ros"
      ],
      "metadata": {
        "id": "8qIG-B1wrpm7"
      },
      "execution_count": null,
      "outputs": []
    },
    {
      "cell_type": "code",
      "source": [
        "x_ros_train, x_ros_test, y_ros_train, y_ros_test = train_test_split(x_scaled_ros, y_scaled_ros, test_size = 0.3, random_state=3)\n",
        "x_ros_train.shape, y_ros_train.shape"
      ],
      "metadata": {
        "colab": {
          "base_uri": "https://localhost:8080/"
        },
        "id": "sxBr0bmPHw5V",
        "outputId": "5bfdbc95-1107-465b-8bd4-b2090df23786"
      },
      "execution_count": null,
      "outputs": [
        {
          "output_type": "execute_result",
          "data": {
            "text/plain": [
              "((332, 14), (332, 1))"
            ]
          },
          "metadata": {},
          "execution_count": 21
        }
      ]
    },
    {
      "cell_type": "code",
      "source": [
        "model_ros = LinearRegression()\n",
        "model_ros.fit(x_ros_train, y_ros_train)"
      ],
      "metadata": {
        "colab": {
          "base_uri": "https://localhost:8080/"
        },
        "id": "R5rmN508JHTM",
        "outputId": "5584adc5-45cb-471e-dfdc-00be4ae95493"
      },
      "execution_count": null,
      "outputs": [
        {
          "output_type": "execute_result",
          "data": {
            "text/plain": [
              "LinearRegression()"
            ]
          },
          "metadata": {},
          "execution_count": 22
        }
      ]
    },
    {
      "cell_type": "code",
      "source": [
        "pred_ros = model_ros.predict(x_ros_test)"
      ],
      "metadata": {
        "id": "ftQOWDTvJ1CC"
      },
      "execution_count": null,
      "outputs": []
    },
    {
      "cell_type": "code",
      "source": [
        "rmse = math.sqrt(mean_squared_error(y_ros_test,pred_ros))\n",
        "print('Root Means Squared Error random Over-sampling: ', rmse)"
      ],
      "metadata": {
        "colab": {
          "base_uri": "https://localhost:8080/"
        },
        "id": "v3PaTSqSJ-01",
        "outputId": "432f62ac-b4f6-4e67-d723-547184fe2246"
      },
      "execution_count": null,
      "outputs": [
        {
          "output_type": "stream",
          "name": "stdout",
          "text": [
            "Root Means Squared Error random Over-sampling:  0.023870272559681594\n"
          ]
        }
      ]
    },
    {
      "cell_type": "markdown",
      "source": [
        "### b: SMOTE"
      ],
      "metadata": {
        "id": "p_soMq90KSgW"
      }
    },
    {
      "cell_type": "code",
      "source": [
        "from imblearn.over_sampling import SMOTE"
      ],
      "metadata": {
        "id": "ii25jO_0KLMy"
      },
      "execution_count": 23,
      "outputs": []
    },
    {
      "cell_type": "code",
      "source": [
        "sm = SMOTE(k_neighbors=2, random_state = 3)\n",
        "d_sm, c_sm = sm.fit_resample(d, c)\n",
        "d_sm.shape, c_sm.shape"
      ],
      "metadata": {
        "colab": {
          "base_uri": "https://localhost:8080/"
        },
        "id": "suZsWFIzLhcI",
        "outputId": "87a0aee0-473c-4e42-f87b-f005859c1be1"
      },
      "execution_count": 24,
      "outputs": [
        {
          "output_type": "execute_result",
          "data": {
            "text/plain": [
              "((475, 15), (475,))"
            ]
          },
          "metadata": {},
          "execution_count": 24
        }
      ]
    },
    {
      "cell_type": "code",
      "source": [
        "c_sm.value_counts().plot.pie(figsize = (9, 9), autopct=\"%.2f\")"
      ],
      "metadata": {
        "colab": {
          "base_uri": "https://localhost:8080/",
          "height": 537
        },
        "id": "NxzeHjkOv2z2",
        "outputId": "b1ad7702-8a7f-4c63-90e7-2fbcd9450372"
      },
      "execution_count": 25,
      "outputs": [
        {
          "output_type": "execute_result",
          "data": {
            "text/plain": [
              "<matplotlib.axes._subplots.AxesSubplot at 0x7fdce649a410>"
            ]
          },
          "metadata": {},
          "execution_count": 25
        },
        {
          "output_type": "display_data",
          "data": {
            "text/plain": [
              "<Figure size 648x648 with 1 Axes>"
            ],
            "image/png": "[encoded data removed]"
          },
          "metadata": {}
        }
      ]
    },
    {
      "cell_type": "code",
      "source": [
        "x_sm = d_sm.iloc[:, :-1].values\n",
        "y_sm = d_sm.iloc[:, -1].values\n",
        "print(x_sm.shape, y_sm.shape)\n",
        "y_sm[0]"
      ],
      "metadata": {
        "colab": {
          "base_uri": "https://localhost:8080/"
        },
        "id": "qm3-bnu_wB2A",
        "outputId": "cf055ec4-9a33-4637-8a77-53006393722d"
      },
      "execution_count": 26,
      "outputs": [
        {
          "output_type": "stream",
          "name": "stdout",
          "text": [
            "(475, 14) (475,)\n"
          ]
        },
        {
          "output_type": "execute_result",
          "data": {
            "text/plain": [
              "12.3"
            ]
          },
          "metadata": {},
          "execution_count": 26
        }
      ]
    },
    {
      "cell_type": "code",
      "source": [
        "x_scaled_sm = scaler.fit_transform(x_sm)\n",
        "y_scaled_sm = scaler.fit_transform(y_sm.reshape(-1, 1))\n",
        "y_scaled_sm[0]"
      ],
      "metadata": {
        "colab": {
          "base_uri": "https://localhost:8080/"
        },
        "id": "kjaBD5-RwjdZ",
        "outputId": "1ec8de26-4004-41de-b2b7-1408882d6bf5"
      },
      "execution_count": 27,
      "outputs": [
        {
          "output_type": "execute_result",
          "data": {
            "text/plain": [
              "array([0.25894737])"
            ]
          },
          "metadata": {},
          "execution_count": 27
        }
      ]
    },
    {
      "cell_type": "code",
      "source": [
        "x_sm_train, x_sm_test, y_sm_train, y_sm_test = train_test_split(x_scaled_sm, y_scaled_sm, test_size=0.3, random_state=3)"
      ],
      "metadata": {
        "id": "HIwgcuFmLw5I"
      },
      "execution_count": 28,
      "outputs": []
    },
    {
      "cell_type": "code",
      "source": [
        "model_sm = LinearRegression()\n",
        "model_sm.fit(x_sm_train, y_sm_train)"
      ],
      "metadata": {
        "colab": {
          "base_uri": "https://localhost:8080/"
        },
        "id": "OlIWnQvbM4nZ",
        "outputId": "3d32ef70-0cab-4e80-86f9-fbc1948e6319"
      },
      "execution_count": 29,
      "outputs": [
        {
          "output_type": "execute_result",
          "data": {
            "text/plain": [
              "LinearRegression()"
            ]
          },
          "metadata": {},
          "execution_count": 29
        }
      ]
    },
    {
      "cell_type": "code",
      "source": [
        "pred_sm = model_sm.predict(x_sm_test)"
      ],
      "metadata": {
        "id": "uwh-e2qINAsp"
      },
      "execution_count": 30,
      "outputs": []
    },
    {
      "cell_type": "code",
      "source": [
        "rmse = math.sqrt(mean_squared_error(y_sm_test,pred_sm))\n",
        "print('Root Means Squared Error SMOTE: ', rmse)"
      ],
      "metadata": {
        "colab": {
          "base_uri": "https://localhost:8080/"
        },
        "id": "oR2GnLMeNKms",
        "outputId": "ebcdfa66-b66a-44db-91cd-d7cb1f350204"
      },
      "execution_count": 31,
      "outputs": [
        {
          "output_type": "stream",
          "name": "stdout",
          "text": [
            "Root Means Squared Error SMOTE:  0.016163608860581342\n"
          ]
        }
      ]
    }
  ]
}