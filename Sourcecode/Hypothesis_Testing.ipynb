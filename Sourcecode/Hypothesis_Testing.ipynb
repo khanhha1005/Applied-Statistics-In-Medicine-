{
  "nbformat": 4,
  "nbformat_minor": 0,
  "metadata": {
    "colab": {
      "name": "Hypothesis Testing",
      "provenance": []
    },
    "kernelspec": {
      "name": "python3",
      "display_name": "Python 3"
    },
    "language_info": {
      "name": "python"
    }
  },
  "cells": [
    {
      "cell_type": "code",
      "execution_count": null,
      "metadata": {
        "id": "JOIdkcYF2x4H"
      },
      "outputs": [],
      "source": [
        "import pandas as pd \n",
        "import numpy as np \n",
        "import matplotlib.pyplot as plt \n",
        "import seaborn as sns \n",
        "import scipy"
      ]
    },
    {
      "cell_type": "code",
      "source": [
        "from google.colab import drive \n",
        "drive.mount('/content/drive/')"
      ],
      "metadata": {
        "id": "hhLCHN-I5dlv",
        "colab": {
          "base_uri": "https://localhost:8080/"
        },
        "outputId": "8c23b9c8-4bd9-4185-d13e-fc5d0237f333"
      },
      "execution_count": null,
      "outputs": [
        {
          "output_type": "stream",
          "name": "stdout",
          "text": [
            "Drive already mounted at /content/drive/; to attempt to forcibly remount, call drive.mount(\"/content/drive/\", force_remount=True).\n"
          ]
        }
      ]
    },
    {
      "cell_type": "code",
      "source": [
        "df = pd.read_csv('/content/drive/MyDrive/bodyfat.csv')"
      ],
      "metadata": {
        "id": "NXEHG7B94MoP"
      },
      "execution_count": null,
      "outputs": []
    },
    {
      "cell_type": "code",
      "source": [
        "df.head(30)"
      ],
      "metadata": {
        "colab": {
          "base_uri": "https://localhost:8080/",
          "height": 990
        },
        "id": "L8tvO7JM4NI5",
        "outputId": "c9ccdbcb-7363-4c28-c7b4-354163df974a"
      },
      "execution_count": null,
      "outputs": [
        {
          "output_type": "execute_result",
          "data": {
            "text/plain": [
              "    Density  BodyFat  Age  Weight  Height  Neck  Chest  Abdomen    Hip  Thigh  \\\n",
              "0    1.0708     12.3   23  154.25   67.75  36.2   93.1     85.2   94.5   59.0   \n",
              "1    1.0853      6.1   22  173.25   72.25  38.5   93.6     83.0   98.7   58.7   \n",
              "2    1.0414     25.3   22  154.00   66.25  34.0   95.8     87.9   99.2   59.6   \n",
              "3    1.0751     10.4   26  184.75   72.25  37.4  101.8     86.4  101.2   60.1   \n",
              "4    1.0340     28.7   24  184.25   71.25  34.4   97.3    100.0  101.9   63.2   \n",
              "5    1.0502     20.9   24  210.25   74.75  39.0  104.5     94.4  107.8   66.0   \n",
              "6    1.0549     19.2   26  181.00   69.75  36.4  105.1     90.7  100.3   58.4   \n",
              "7    1.0704     12.4   25  176.00   72.50  37.8   99.6     88.5   97.1   60.0   \n",
              "8    1.0900      4.1   25  191.00   74.00  38.1  100.9     82.5   99.9   62.9   \n",
              "9    1.0722     11.7   23  198.25   73.50  42.1   99.6     88.6  104.1   63.1   \n",
              "10   1.0830      7.1   26  186.25   74.50  38.5  101.5     83.6   98.2   59.7   \n",
              "11   1.0812      7.8   27  216.00   76.00  39.4  103.6     90.9  107.7   66.2   \n",
              "12   1.0513     20.8   32  180.50   69.50  38.4  102.0     91.6  103.9   63.4   \n",
              "13   1.0505     21.2   30  205.25   71.25  39.4  104.1    101.8  108.6   66.0   \n",
              "14   1.0484     22.1   35  187.75   69.50  40.5  101.3     96.4  100.1   69.0   \n",
              "15   1.0512     20.9   35  162.75   66.00  36.4   99.1     92.8   99.2   63.1   \n",
              "16   1.0333     29.0   34  195.75   71.00  38.9  101.9     96.4  105.2   64.8   \n",
              "17   1.0468     22.9   32  209.25   71.00  42.1  107.6     97.5  107.0   66.9   \n",
              "18   1.0622     16.0   28  183.75   67.75  38.0  106.8     89.6  102.4   64.2   \n",
              "19   1.0610     16.5   33  211.75   73.50  40.0  106.2    100.5  109.0   65.8   \n",
              "20   1.0551     19.1   28  179.00   68.00  39.1  103.3     95.9  104.9   63.5   \n",
              "21   1.0640     15.2   28  200.50   69.75  41.3  111.4     98.8  104.8   63.4   \n",
              "22   1.0631     15.6   31  140.25   68.25  33.9   86.0     76.4   94.6   57.4   \n",
              "23   1.0584     17.7   32  148.75   70.00  35.5   86.7     80.0   93.4   54.9   \n",
              "24   1.0668     14.0   28  151.25   67.75  34.5   90.2     76.3   95.8   58.4   \n",
              "25   1.0911      3.7   27  159.25   71.50  35.7   89.6     79.7   96.5   55.0   \n",
              "26   1.0811      7.9   34  131.50   67.50  36.2   88.6     74.6   85.3   51.7   \n",
              "27   1.0468     22.9   31  148.00   67.50  38.8   97.4     88.7   94.7   57.5   \n",
              "28   1.0910      3.7   27  133.25   64.75  36.4   93.5     73.9   88.5   50.1   \n",
              "29   1.0790      8.8   29  160.75   69.00  36.7   97.4     83.5   98.7   58.9   \n",
              "\n",
              "    Knee  Ankle  Biceps  Forearm  Wrist  \n",
              "0   37.3   21.9    32.0     27.4   17.1  \n",
              "1   37.3   23.4    30.5     28.9   18.2  \n",
              "2   38.9   24.0    28.8     25.2   16.6  \n",
              "3   37.3   22.8    32.4     29.4   18.2  \n",
              "4   42.2   24.0    32.2     27.7   17.7  \n",
              "5   42.0   25.6    35.7     30.6   18.8  \n",
              "6   38.3   22.9    31.9     27.8   17.7  \n",
              "7   39.4   23.2    30.5     29.0   18.8  \n",
              "8   38.3   23.8    35.9     31.1   18.2  \n",
              "9   41.7   25.0    35.6     30.0   19.2  \n",
              "10  39.7   25.2    32.8     29.4   18.5  \n",
              "11  39.2   25.9    37.2     30.2   19.0  \n",
              "12  38.3   21.5    32.5     28.6   17.7  \n",
              "13  41.5   23.7    36.9     31.6   18.8  \n",
              "14  39.0   23.1    36.1     30.5   18.2  \n",
              "15  38.7   21.7    31.1     26.4   16.9  \n",
              "16  40.8   23.1    36.2     30.8   17.3  \n",
              "17  40.0   24.4    38.2     31.6   19.3  \n",
              "18  38.7   22.9    37.2     30.5   18.5  \n",
              "19  40.6   24.0    37.1     30.1   18.2  \n",
              "20  38.0   22.1    32.5     30.3   18.4  \n",
              "21  40.6   24.6    33.0     32.8   19.9  \n",
              "22  35.3   22.2    27.9     25.9   16.7  \n",
              "23  36.2   22.1    29.8     26.7   17.1  \n",
              "24  35.5   22.9    31.1     28.0   17.6  \n",
              "25  36.7   22.5    29.9     28.2   17.7  \n",
              "26  34.7   21.4    28.7     27.0   16.5  \n",
              "27  36.0   21.0    29.2     26.6   17.0  \n",
              "28  34.5   21.3    30.5     27.9   17.2  \n",
              "29  35.3   22.6    30.1     26.7   17.6  "
            ],
            "text/html": [
              "\n",
              "  <div id=\"df-aaf1dc70-220f-41c2-b6ff-d8f0ff239cb7\">\n",
              "    <div class=\"colab-df-container\">\n",
              "      <div>\n",
              "<style scoped>\n",
              "    .dataframe tbody tr th:only-of-type {\n",
              "        vertical-align: middle;\n",
              "    }\n",
              "\n",
              "    .dataframe tbody tr th {\n",
              "        vertical-align: top;\n",
              "    }\n",
              "\n",
              "    .dataframe thead th {\n",
              "        text-align: right;\n",
              "    }\n",
              "</style>\n",
              "<table border=\"1\" class=\"dataframe\">\n",
              "  <thead>\n",
              "    <tr style=\"text-align: right;\">\n",
              "      <th></th>\n",
              "      <th>Density</th>\n",
              "      <th>BodyFat</th>\n",
              "      <th>Age</th>\n",
              "      <th>Weight</th>\n",
              "      <th>Height</th>\n",
              "      <th>Neck</th>\n",
              "      <th>Chest</th>\n",
              "      <th>Abdomen</th>\n",
              "      <th>Hip</th>\n",
              "      <th>Thigh</th>\n",
              "      <th>Knee</th>\n",
              "      <th>Ankle</th>\n",
              "      <th>Biceps</th>\n",
              "      <th>Forearm</th>\n",
              "      <th>Wrist</th>\n",
              "    </tr>\n",
              "  </thead>\n",
              "  <tbody>\n",
              "    <tr>\n",
              "      <th>0</th>\n",
              "      <td>1.0708</td>\n",
              "      <td>12.3</td>\n",
              "      <td>23</td>\n",
              "      <td>154.25</td>\n",
              "      <td>67.75</td>\n",
              "      <td>36.2</td>\n",
              "      <td>93.1</td>\n",
              "      <td>85.2</td>\n",
              "      <td>94.5</td>\n",
              "      <td>59.0</td>\n",
              "      <td>37.3</td>\n",
              "      <td>21.9</td>\n",
              "      <td>32.0</td>\n",
              "      <td>27.4</td>\n",
              "      <td>17.1</td>\n",
              "    </tr>\n",
              "    <tr>\n",
              "      <th>1</th>\n",
              "      <td>1.0853</td>\n",
              "      <td>6.1</td>\n",
              "      <td>22</td>\n",
              "      <td>173.25</td>\n",
              "      <td>72.25</td>\n",
              "      <td>38.5</td>\n",
              "      <td>93.6</td>\n",
              "      <td>83.0</td>\n",
              "      <td>98.7</td>\n",
              "      <td>58.7</td>\n",
              "      <td>37.3</td>\n",
              "      <td>23.4</td>\n",
              "      <td>30.5</td>\n",
              "      <td>28.9</td>\n",
              "      <td>18.2</td>\n",
              "    </tr>\n",
              "    <tr>\n",
              "      <th>2</th>\n",
              "      <td>1.0414</td>\n",
              "      <td>25.3</td>\n",
              "      <td>22</td>\n",
              "      <td>154.00</td>\n",
              "      <td>66.25</td>\n",
              "      <td>34.0</td>\n",
              "      <td>95.8</td>\n",
              "      <td>87.9</td>\n",
              "      <td>99.2</td>\n",
              "      <td>59.6</td>\n",
              "      <td>38.9</td>\n",
              "      <td>24.0</td>\n",
              "      <td>28.8</td>\n",
              "      <td>25.2</td>\n",
              "      <td>16.6</td>\n",
              "    </tr>\n",
              "    <tr>\n",
              "      <th>3</th>\n",
              "      <td>1.0751</td>\n",
              "      <td>10.4</td>\n",
              "      <td>26</td>\n",
              "      <td>184.75</td>\n",
              "      <td>72.25</td>\n",
              "      <td>37.4</td>\n",
              "      <td>101.8</td>\n",
              "      <td>86.4</td>\n",
              "      <td>101.2</td>\n",
              "      <td>60.1</td>\n",
              "      <td>37.3</td>\n",
              "      <td>22.8</td>\n",
              "      <td>32.4</td>\n",
              "      <td>29.4</td>\n",
              "      <td>18.2</td>\n",
              "    </tr>\n",
              "    <tr>\n",
              "      <th>4</th>\n",
              "      <td>1.0340</td>\n",
              "      <td>28.7</td>\n",
              "      <td>24</td>\n",
              "      <td>184.25</td>\n",
              "      <td>71.25</td>\n",
              "      <td>34.4</td>\n",
              "      <td>97.3</td>\n",
              "      <td>100.0</td>\n",
              "      <td>101.9</td>\n",
              "      <td>63.2</td>\n",
              "      <td>42.2</td>\n",
              "      <td>24.0</td>\n",
              "      <td>32.2</td>\n",
              "      <td>27.7</td>\n",
              "      <td>17.7</td>\n",
              "    </tr>\n",
              "    <tr>\n",
              "      <th>5</th>\n",
              "      <td>1.0502</td>\n",
              "      <td>20.9</td>\n",
              "      <td>24</td>\n",
              "      <td>210.25</td>\n",
              "      <td>74.75</td>\n",
              "      <td>39.0</td>\n",
              "      <td>104.5</td>\n",
              "      <td>94.4</td>\n",
              "      <td>107.8</td>\n",
              "      <td>66.0</td>\n",
              "      <td>42.0</td>\n",
              "      <td>25.6</td>\n",
              "      <td>35.7</td>\n",
              "      <td>30.6</td>\n",
              "      <td>18.8</td>\n",
              "    </tr>\n",
              "    <tr>\n",
              "      <th>6</th>\n",
              "      <td>1.0549</td>\n",
              "      <td>19.2</td>\n",
              "      <td>26</td>\n",
              "      <td>181.00</td>\n",
              "      <td>69.75</td>\n",
              "      <td>36.4</td>\n",
              "      <td>105.1</td>\n",
              "      <td>90.7</td>\n",
              "      <td>100.3</td>\n",
              "      <td>58.4</td>\n",
              "      <td>38.3</td>\n",
              "      <td>22.9</td>\n",
              "      <td>31.9</td>\n",
              "      <td>27.8</td>\n",
              "      <td>17.7</td>\n",
              "    </tr>\n",
              "    <tr>\n",
              "      <th>7</th>\n",
              "      <td>1.0704</td>\n",
              "      <td>12.4</td>\n",
              "      <td>25</td>\n",
              "      <td>176.00</td>\n",
              "      <td>72.50</td>\n",
              "      <td>37.8</td>\n",
              "      <td>99.6</td>\n",
              "      <td>88.5</td>\n",
              "      <td>97.1</td>\n",
              "      <td>60.0</td>\n",
              "      <td>39.4</td>\n",
              "      <td>23.2</td>\n",
              "      <td>30.5</td>\n",
              "      <td>29.0</td>\n",
              "      <td>18.8</td>\n",
              "    </tr>\n",
              "    <tr>\n",
              "      <th>8</th>\n",
              "      <td>1.0900</td>\n",
              "      <td>4.1</td>\n",
              "      <td>25</td>\n",
              "      <td>191.00</td>\n",
              "      <td>74.00</td>\n",
              "      <td>38.1</td>\n",
              "      <td>100.9</td>\n",
              "      <td>82.5</td>\n",
              "      <td>99.9</td>\n",
              "      <td>62.9</td>\n",
              "      <td>38.3</td>\n",
              "      <td>23.8</td>\n",
              "      <td>35.9</td>\n",
              "      <td>31.1</td>\n",
              "      <td>18.2</td>\n",
              "    </tr>\n",
              "    <tr>\n",
              "      <th>9</th>\n",
              "      <td>1.0722</td>\n",
              "      <td>11.7</td>\n",
              "      <td>23</td>\n",
              "      <td>198.25</td>\n",
              "      <td>73.50</td>\n",
              "      <td>42.1</td>\n",
              "      <td>99.6</td>\n",
              "      <td>88.6</td>\n",
              "      <td>104.1</td>\n",
              "      <td>63.1</td>\n",
              "      <td>41.7</td>\n",
              "      <td>25.0</td>\n",
              "      <td>35.6</td>\n",
              "      <td>30.0</td>\n",
              "      <td>19.2</td>\n",
              "    </tr>\n",
              "    <tr>\n",
              "      <th>10</th>\n",
              "      <td>1.0830</td>\n",
              "      <td>7.1</td>\n",
              "      <td>26</td>\n",
              "      <td>186.25</td>\n",
              "      <td>74.50</td>\n",
              "      <td>38.5</td>\n",
              "      <td>101.5</td>\n",
              "      <td>83.6</td>\n",
              "      <td>98.2</td>\n",
              "      <td>59.7</td>\n",
              "      <td>39.7</td>\n",
              "      <td>25.2</td>\n",
              "      <td>32.8</td>\n",
              "      <td>29.4</td>\n",
              "      <td>18.5</td>\n",
              "    </tr>\n",
              "    <tr>\n",
              "      <th>11</th>\n",
              "      <td>1.0812</td>\n",
              "      <td>7.8</td>\n",
              "      <td>27</td>\n",
              "      <td>216.00</td>\n",
              "      <td>76.00</td>\n",
              "      <td>39.4</td>\n",
              "      <td>103.6</td>\n",
              "      <td>90.9</td>\n",
              "      <td>107.7</td>\n",
              "      <td>66.2</td>\n",
              "      <td>39.2</td>\n",
              "      <td>25.9</td>\n",
              "      <td>37.2</td>\n",
              "      <td>30.2</td>\n",
              "      <td>19.0</td>\n",
              "    </tr>\n",
              "    <tr>\n",
              "      <th>12</th>\n",
              "      <td>1.0513</td>\n",
              "      <td>20.8</td>\n",
              "      <td>32</td>\n",
              "      <td>180.50</td>\n",
              "      <td>69.50</td>\n",
              "      <td>38.4</td>\n",
              "      <td>102.0</td>\n",
              "      <td>91.6</td>\n",
              "      <td>103.9</td>\n",
              "      <td>63.4</td>\n",
              "      <td>38.3</td>\n",
              "      <td>21.5</td>\n",
              "      <td>32.5</td>\n",
              "      <td>28.6</td>\n",
              "      <td>17.7</td>\n",
              "    </tr>\n",
              "    <tr>\n",
              "      <th>13</th>\n",
              "      <td>1.0505</td>\n",
              "      <td>21.2</td>\n",
              "      <td>30</td>\n",
              "      <td>205.25</td>\n",
              "      <td>71.25</td>\n",
              "      <td>39.4</td>\n",
              "      <td>104.1</td>\n",
              "      <td>101.8</td>\n",
              "      <td>108.6</td>\n",
              "      <td>66.0</td>\n",
              "      <td>41.5</td>\n",
              "      <td>23.7</td>\n",
              "      <td>36.9</td>\n",
              "      <td>31.6</td>\n",
              "      <td>18.8</td>\n",
              "    </tr>\n",
              "    <tr>\n",
              "      <th>14</th>\n",
              "      <td>1.0484</td>\n",
              "      <td>22.1</td>\n",
              "      <td>35</td>\n",
              "      <td>187.75</td>\n",
              "      <td>69.50</td>\n",
              "      <td>40.5</td>\n",
              "      <td>101.3</td>\n",
              "      <td>96.4</td>\n",
              "      <td>100.1</td>\n",
              "      <td>69.0</td>\n",
              "      <td>39.0</td>\n",
              "      <td>23.1</td>\n",
              "      <td>36.1</td>\n",
              "      <td>30.5</td>\n",
              "      <td>18.2</td>\n",
              "    </tr>\n",
              "    <tr>\n",
              "      <th>15</th>\n",
              "      <td>1.0512</td>\n",
              "      <td>20.9</td>\n",
              "      <td>35</td>\n",
              "      <td>162.75</td>\n",
              "      <td>66.00</td>\n",
              "      <td>36.4</td>\n",
              "      <td>99.1</td>\n",
              "      <td>92.8</td>\n",
              "      <td>99.2</td>\n",
              "      <td>63.1</td>\n",
              "      <td>38.7</td>\n",
              "      <td>21.7</td>\n",
              "      <td>31.1</td>\n",
              "      <td>26.4</td>\n",
              "      <td>16.9</td>\n",
              "    </tr>\n",
              "    <tr>\n",
              "      <th>16</th>\n",
              "      <td>1.0333</td>\n",
              "      <td>29.0</td>\n",
              "      <td>34</td>\n",
              "      <td>195.75</td>\n",
              "      <td>71.00</td>\n",
              "      <td>38.9</td>\n",
              "      <td>101.9</td>\n",
              "      <td>96.4</td>\n",
              "      <td>105.2</td>\n",
              "      <td>64.8</td>\n",
              "      <td>40.8</td>\n",
              "      <td>23.1</td>\n",
              "      <td>36.2</td>\n",
              "      <td>30.8</td>\n",
              "      <td>17.3</td>\n",
              "    </tr>\n",
              "    <tr>\n",
              "      <th>17</th>\n",
              "      <td>1.0468</td>\n",
              "      <td>22.9</td>\n",
              "      <td>32</td>\n",
              "      <td>209.25</td>\n",
              "      <td>71.00</td>\n",
              "      <td>42.1</td>\n",
              "      <td>107.6</td>\n",
              "      <td>97.5</td>\n",
              "      <td>107.0</td>\n",
              "      <td>66.9</td>\n",
              "      <td>40.0</td>\n",
              "      <td>24.4</td>\n",
              "      <td>38.2</td>\n",
              "      <td>31.6</td>\n",
              "      <td>19.3</td>\n",
              "    </tr>\n",
              "    <tr>\n",
              "      <th>18</th>\n",
              "      <td>1.0622</td>\n",
              "      <td>16.0</td>\n",
              "      <td>28</td>\n",
              "      <td>183.75</td>\n",
              "      <td>67.75</td>\n",
              "      <td>38.0</td>\n",
              "      <td>106.8</td>\n",
              "      <td>89.6</td>\n",
              "      <td>102.4</td>\n",
              "      <td>64.2</td>\n",
              "      <td>38.7</td>\n",
              "      <td>22.9</td>\n",
              "      <td>37.2</td>\n",
              "      <td>30.5</td>\n",
              "      <td>18.5</td>\n",
              "    </tr>\n",
              "    <tr>\n",
              "      <th>19</th>\n",
              "      <td>1.0610</td>\n",
              "      <td>16.5</td>\n",
              "      <td>33</td>\n",
              "      <td>211.75</td>\n",
              "      <td>73.50</td>\n",
              "      <td>40.0</td>\n",
              "      <td>106.2</td>\n",
              "      <td>100.5</td>\n",
              "      <td>109.0</td>\n",
              "      <td>65.8</td>\n",
              "      <td>40.6</td>\n",
              "      <td>24.0</td>\n",
              "      <td>37.1</td>\n",
              "      <td>30.1</td>\n",
              "      <td>18.2</td>\n",
              "    </tr>\n",
              "    <tr>\n",
              "      <th>20</th>\n",
              "      <td>1.0551</td>\n",
              "      <td>19.1</td>\n",
              "      <td>28</td>\n",
              "      <td>179.00</td>\n",
              "      <td>68.00</td>\n",
              "      <td>39.1</td>\n",
              "      <td>103.3</td>\n",
              "      <td>95.9</td>\n",
              "      <td>104.9</td>\n",
              "      <td>63.5</td>\n",
              "      <td>38.0</td>\n",
              "      <td>22.1</td>\n",
              "      <td>32.5</td>\n",
              "      <td>30.3</td>\n",
              "      <td>18.4</td>\n",
              "    </tr>\n",
              "    <tr>\n",
              "      <th>21</th>\n",
              "      <td>1.0640</td>\n",
              "      <td>15.2</td>\n",
              "      <td>28</td>\n",
              "      <td>200.50</td>\n",
              "      <td>69.75</td>\n",
              "      <td>41.3</td>\n",
              "      <td>111.4</td>\n",
              "      <td>98.8</td>\n",
              "      <td>104.8</td>\n",
              "      <td>63.4</td>\n",
              "      <td>40.6</td>\n",
              "      <td>24.6</td>\n",
              "      <td>33.0</td>\n",
              "      <td>32.8</td>\n",
              "      <td>19.9</td>\n",
              "    </tr>\n",
              "    <tr>\n",
              "      <th>22</th>\n",
              "      <td>1.0631</td>\n",
              "      <td>15.6</td>\n",
              "      <td>31</td>\n",
              "      <td>140.25</td>\n",
              "      <td>68.25</td>\n",
              "      <td>33.9</td>\n",
              "      <td>86.0</td>\n",
              "      <td>76.4</td>\n",
              "      <td>94.6</td>\n",
              "      <td>57.4</td>\n",
              "      <td>35.3</td>\n",
              "      <td>22.2</td>\n",
              "      <td>27.9</td>\n",
              "      <td>25.9</td>\n",
              "      <td>16.7</td>\n",
              "    </tr>\n",
              "    <tr>\n",
              "      <th>23</th>\n",
              "      <td>1.0584</td>\n",
              "      <td>17.7</td>\n",
              "      <td>32</td>\n",
              "      <td>148.75</td>\n",
              "      <td>70.00</td>\n",
              "      <td>35.5</td>\n",
              "      <td>86.7</td>\n",
              "      <td>80.0</td>\n",
              "      <td>93.4</td>\n",
              "      <td>54.9</td>\n",
              "      <td>36.2</td>\n",
              "      <td>22.1</td>\n",
              "      <td>29.8</td>\n",
              "      <td>26.7</td>\n",
              "      <td>17.1</td>\n",
              "    </tr>\n",
              "    <tr>\n",
              "      <th>24</th>\n",
              "      <td>1.0668</td>\n",
              "      <td>14.0</td>\n",
              "      <td>28</td>\n",
              "      <td>151.25</td>\n",
              "      <td>67.75</td>\n",
              "      <td>34.5</td>\n",
              "      <td>90.2</td>\n",
              "      <td>76.3</td>\n",
              "      <td>95.8</td>\n",
              "      <td>58.4</td>\n",
              "      <td>35.5</td>\n",
              "      <td>22.9</td>\n",
              "      <td>31.1</td>\n",
              "      <td>28.0</td>\n",
              "      <td>17.6</td>\n",
              "    </tr>\n",
              "    <tr>\n",
              "      <th>25</th>\n",
              "      <td>1.0911</td>\n",
              "      <td>3.7</td>\n",
              "      <td>27</td>\n",
              "      <td>159.25</td>\n",
              "      <td>71.50</td>\n",
              "      <td>35.7</td>\n",
              "      <td>89.6</td>\n",
              "      <td>79.7</td>\n",
              "      <td>96.5</td>\n",
              "      <td>55.0</td>\n",
              "      <td>36.7</td>\n",
              "      <td>22.5</td>\n",
              "      <td>29.9</td>\n",
              "      <td>28.2</td>\n",
              "      <td>17.7</td>\n",
              "    </tr>\n",
              "    <tr>\n",
              "      <th>26</th>\n",
              "      <td>1.0811</td>\n",
              "      <td>7.9</td>\n",
              "      <td>34</td>\n",
              "      <td>131.50</td>\n",
              "      <td>67.50</td>\n",
              "      <td>36.2</td>\n",
              "      <td>88.6</td>\n",
              "      <td>74.6</td>\n",
              "      <td>85.3</td>\n",
              "      <td>51.7</td>\n",
              "      <td>34.7</td>\n",
              "      <td>21.4</td>\n",
              "      <td>28.7</td>\n",
              "      <td>27.0</td>\n",
              "      <td>16.5</td>\n",
              "    </tr>\n",
              "    <tr>\n",
              "      <th>27</th>\n",
              "      <td>1.0468</td>\n",
              "      <td>22.9</td>\n",
              "      <td>31</td>\n",
              "      <td>148.00</td>\n",
              "      <td>67.50</td>\n",
              "      <td>38.8</td>\n",
              "      <td>97.4</td>\n",
              "      <td>88.7</td>\n",
              "      <td>94.7</td>\n",
              "      <td>57.5</td>\n",
              "      <td>36.0</td>\n",
              "      <td>21.0</td>\n",
              "      <td>29.2</td>\n",
              "      <td>26.6</td>\n",
              "      <td>17.0</td>\n",
              "    </tr>\n",
              "    <tr>\n",
              "      <th>28</th>\n",
              "      <td>1.0910</td>\n",
              "      <td>3.7</td>\n",
              "      <td>27</td>\n",
              "      <td>133.25</td>\n",
              "      <td>64.75</td>\n",
              "      <td>36.4</td>\n",
              "      <td>93.5</td>\n",
              "      <td>73.9</td>\n",
              "      <td>88.5</td>\n",
              "      <td>50.1</td>\n",
              "      <td>34.5</td>\n",
              "      <td>21.3</td>\n",
              "      <td>30.5</td>\n",
              "      <td>27.9</td>\n",
              "      <td>17.2</td>\n",
              "    </tr>\n",
              "    <tr>\n",
              "      <th>29</th>\n",
              "      <td>1.0790</td>\n",
              "      <td>8.8</td>\n",
              "      <td>29</td>\n",
              "      <td>160.75</td>\n",
              "      <td>69.00</td>\n",
              "      <td>36.7</td>\n",
              "      <td>97.4</td>\n",
              "      <td>83.5</td>\n",
              "      <td>98.7</td>\n",
              "      <td>58.9</td>\n",
              "      <td>35.3</td>\n",
              "      <td>22.6</td>\n",
              "      <td>30.1</td>\n",
              "      <td>26.7</td>\n",
              "      <td>17.6</td>\n",
              "    </tr>\n",
              "  </tbody>\n",
              "</table>\n",
              "</div>\n",
              "      <button class=\"colab-df-convert\" onclick=\"convertToInteractive('df-aaf1dc70-220f-41c2-b6ff-d8f0ff239cb7')\"\n",
              "              title=\"Convert this dataframe to an interactive table.\"\n",
              "              style=\"display:none;\">\n",
              "        \n",
              "  <svg xmlns=\"http://www.w3.org/2000/svg\" height=\"24px\"viewBox=\"0 0 24 24\"\n",
              "       width=\"24px\">\n",
              "    <path d=\"M0 0h24v24H0V0z\" fill=\"none\"/>\n",
              "    <path d=\"M18.56 5.44l.94 2.06.94-2.06 2.06-.94-2.06-.94-.94-2.06-.94 2.06-2.06.94zm-11 1L8.5 8.5l.94-2.06 2.06-.94-2.06-.94L8.5 2.5l-.94 2.06-2.06.94zm10 10l.94 2.06.94-2.06 2.06-.94-2.06-.94-.94-2.06-.94 2.06-2.06.94z\"/><path d=\"M17.41 7.96l-1.37-1.37c-.4-.4-.92-.59-1.43-.59-.52 0-1.04.2-1.43.59L10.3 9.45l-7.72 7.72c-.78.78-.78 2.05 0 2.83L4 21.41c.39.39.9.59 1.41.59.51 0 1.02-.2 1.41-.59l7.78-7.78 2.81-2.81c.8-.78.8-2.07 0-2.86zM5.41 20L4 18.59l7.72-7.72 1.47 1.35L5.41 20z\"/>\n",
              "  </svg>\n",
              "      </button>\n",
              "      \n",
              "  <style>\n",
              "    .colab-df-container {\n",
              "      display:flex;\n",
              "      flex-wrap:wrap;\n",
              "      gap: 12px;\n",
              "    }\n",
              "\n",
              "    .colab-df-convert {\n",
              "      background-color: #E8F0FE;\n",
              "      border: none;\n",
              "      border-radius: 50%;\n",
              "      cursor: pointer;\n",
              "      display: none;\n",
              "      fill: #1967D2;\n",
              "      height: 32px;\n",
              "      padding: 0 0 0 0;\n",
              "      width: 32px;\n",
              "    }\n",
              "\n",
              "    .colab-df-convert:hover {\n",
              "      background-color: #E2EBFA;\n",
              "      box-shadow: 0px 1px 2px rgba(60, 64, 67, 0.3), 0px 1px 3px 1px rgba(60, 64, 67, 0.15);\n",
              "      fill: #174EA6;\n",
              "    }\n",
              "\n",
              "    [theme=dark] .colab-df-convert {\n",
              "      background-color: #3B4455;\n",
              "      fill: #D2E3FC;\n",
              "    }\n",
              "\n",
              "    [theme=dark] .colab-df-convert:hover {\n",
              "      background-color: #434B5C;\n",
              "      box-shadow: 0px 1px 3px 1px rgba(0, 0, 0, 0.15);\n",
              "      filter: drop-shadow(0px 1px 2px rgba(0, 0, 0, 0.3));\n",
              "      fill: #FFFFFF;\n",
              "    }\n",
              "  </style>\n",
              "\n",
              "      <script>\n",
              "        const buttonEl =\n",
              "          document.querySelector('#df-aaf1dc70-220f-41c2-b6ff-d8f0ff239cb7 button.colab-df-convert');\n",
              "        buttonEl.style.display =\n",
              "          google.colab.kernel.accessAllowed ? 'block' : 'none';\n",
              "\n",
              "        async function convertToInteractive(key) {\n",
              "          const element = document.querySelector('#df-aaf1dc70-220f-41c2-b6ff-d8f0ff239cb7');\n",
              "          const dataTable =\n",
              "            await google.colab.kernel.invokeFunction('convertToInteractive',\n",
              "                                                     [key], {});\n",
              "          if (!dataTable) return;\n",
              "\n",
              "          const docLinkHtml = 'Like what you see? Visit the ' +\n",
              "            '<a target=\"_blank\" href=https://colab.research.google.com/notebooks/data_table.ipynb>data table notebook</a>'\n",
              "            + ' to learn more about interactive tables.';\n",
              "          element.innerHTML = '';\n",
              "          dataTable['output_type'] = 'display_data';\n",
              "          await google.colab.output.renderOutput(dataTable, element);\n",
              "          const docLink = document.createElement('div');\n",
              "          docLink.innerHTML = docLinkHtml;\n",
              "          element.appendChild(docLink);\n",
              "        }\n",
              "      </script>\n",
              "    </div>\n",
              "  </div>\n",
              "  "
            ]
          },
          "metadata": {},
          "execution_count": 50
        }
      ]
    },
    {
      "cell_type": "code",
      "source": [
        "df.corr()"
      ],
      "metadata": {
        "colab": {
          "base_uri": "https://localhost:8080/",
          "height": 520
        },
        "id": "lievwTB97n4O",
        "outputId": "bd76beac-994c-4b12-d425-5c109aa564c0"
      },
      "execution_count": null,
      "outputs": [
        {
          "output_type": "execute_result",
          "data": {
            "text/plain": [
              "          Density   BodyFat       Age    Weight    Height      Neck     Chest  \\\n",
              "Density  1.000000 -0.987782 -0.277637 -0.594062  0.097881 -0.472966 -0.682599   \n",
              "BodyFat -0.987782  1.000000  0.291458  0.612414 -0.089495  0.490592  0.702620   \n",
              "Age     -0.277637  0.291458  1.000000 -0.012746 -0.171645  0.113505  0.176450   \n",
              "Weight  -0.594062  0.612414 -0.012746  1.000000  0.308279  0.830716  0.894191   \n",
              "Height   0.097881 -0.089495 -0.171645  0.308279  1.000000  0.253710  0.134892   \n",
              "Neck    -0.472966  0.490592  0.113505  0.830716  0.253710  1.000000  0.784835   \n",
              "Chest   -0.682599  0.702620  0.176450  0.894191  0.134892  0.784835  1.000000   \n",
              "Abdomen -0.798955  0.813432  0.230409  0.887995  0.087813  0.754077  0.915828   \n",
              "Hip     -0.609331  0.625201 -0.050332  0.940884  0.170394  0.734958  0.829420   \n",
              "Thigh   -0.553091  0.559608 -0.200096  0.868694  0.148436  0.695697  0.729859   \n",
              "Knee    -0.495040  0.508665  0.017516  0.853167  0.286053  0.672405  0.719496   \n",
              "Ankle   -0.264890  0.265970 -0.105058  0.613685  0.264744  0.477892  0.482988   \n",
              "Biceps  -0.487109  0.493271 -0.041162  0.800416  0.207816  0.731146  0.727907   \n",
              "Forearm -0.351648  0.361387 -0.085056  0.630301  0.228649  0.623660  0.580173   \n",
              "Wrist   -0.325716  0.346575  0.213531  0.729775  0.322065  0.744826  0.660162   \n",
              "\n",
              "          Abdomen       Hip     Thigh      Knee     Ankle    Biceps   Forearm  \\\n",
              "Density -0.798955 -0.609331 -0.553091 -0.495040 -0.264890 -0.487109 -0.351648   \n",
              "BodyFat  0.813432  0.625201  0.559608  0.508665  0.265970  0.493271  0.361387   \n",
              "Age      0.230409 -0.050332 -0.200096  0.017516 -0.105058 -0.041162 -0.085056   \n",
              "Weight   0.887995  0.940884  0.868694  0.853167  0.613685  0.800416  0.630301   \n",
              "Height   0.087813  0.170394  0.148436  0.286053  0.264744  0.207816  0.228649   \n",
              "Neck     0.754077  0.734958  0.695697  0.672405  0.477892  0.731146  0.623660   \n",
              "Chest    0.915828  0.829420  0.729859  0.719496  0.482988  0.727907  0.580173   \n",
              "Abdomen  1.000000  0.874066  0.766624  0.737179  0.453223  0.684983  0.503316   \n",
              "Hip      0.874066  1.000000  0.896410  0.823473  0.558387  0.739273  0.545014   \n",
              "Thigh    0.766624  0.896410  1.000000  0.799170  0.539797  0.761477  0.566842   \n",
              "Knee     0.737179  0.823473  0.799170  1.000000  0.611608  0.678709  0.555898   \n",
              "Ankle    0.453223  0.558387  0.539797  0.611608  1.000000  0.484855  0.419050   \n",
              "Biceps   0.684983  0.739273  0.761477  0.678709  0.484855  1.000000  0.678255   \n",
              "Forearm  0.503316  0.545014  0.566842  0.555898  0.419050  0.678255  1.000000   \n",
              "Wrist    0.619832  0.630090  0.558685  0.664507  0.566195  0.632126  0.585588   \n",
              "\n",
              "            Wrist  \n",
              "Density -0.325716  \n",
              "BodyFat  0.346575  \n",
              "Age      0.213531  \n",
              "Weight   0.729775  \n",
              "Height   0.322065  \n",
              "Neck     0.744826  \n",
              "Chest    0.660162  \n",
              "Abdomen  0.619832  \n",
              "Hip      0.630090  \n",
              "Thigh    0.558685  \n",
              "Knee     0.664507  \n",
              "Ankle    0.566195  \n",
              "Biceps   0.632126  \n",
              "Forearm  0.585588  \n",
              "Wrist    1.000000  "
            ],
            "text/html": [
              "\n",
              "  <div id=\"df-c4e032ad-f24d-4918-8da7-7f3b474f4a3f\">\n",
              "    <div class=\"colab-df-container\">\n",
              "      <div>\n",
              "<style scoped>\n",
              "    .dataframe tbody tr th:only-of-type {\n",
              "        vertical-align: middle;\n",
              "    }\n",
              "\n",
              "    .dataframe tbody tr th {\n",
              "        vertical-align: top;\n",
              "    }\n",
              "\n",
              "    .dataframe thead th {\n",
              "        text-align: right;\n",
              "    }\n",
              "</style>\n",
              "<table border=\"1\" class=\"dataframe\">\n",
              "  <thead>\n",
              "    <tr style=\"text-align: right;\">\n",
              "      <th></th>\n",
              "      <th>Density</th>\n",
              "      <th>BodyFat</th>\n",
              "      <th>Age</th>\n",
              "      <th>Weight</th>\n",
              "      <th>Height</th>\n",
              "      <th>Neck</th>\n",
              "      <th>Chest</th>\n",
              "      <th>Abdomen</th>\n",
              "      <th>Hip</th>\n",
              "      <th>Thigh</th>\n",
              "      <th>Knee</th>\n",
              "      <th>Ankle</th>\n",
              "      <th>Biceps</th>\n",
              "      <th>Forearm</th>\n",
              "      <th>Wrist</th>\n",
              "    </tr>\n",
              "  </thead>\n",
              "  <tbody>\n",
              "    <tr>\n",
              "      <th>Density</th>\n",
              "      <td>1.000000</td>\n",
              "      <td>-0.987782</td>\n",
              "      <td>-0.277637</td>\n",
              "      <td>-0.594062</td>\n",
              "      <td>0.097881</td>\n",
              "      <td>-0.472966</td>\n",
              "      <td>-0.682599</td>\n",
              "      <td>-0.798955</td>\n",
              "      <td>-0.609331</td>\n",
              "      <td>-0.553091</td>\n",
              "      <td>-0.495040</td>\n",
              "      <td>-0.264890</td>\n",
              "      <td>-0.487109</td>\n",
              "      <td>-0.351648</td>\n",
              "      <td>-0.325716</td>\n",
              "    </tr>\n",
              "    <tr>\n",
              "      <th>BodyFat</th>\n",
              "      <td>-0.987782</td>\n",
              "      <td>1.000000</td>\n",
              "      <td>0.291458</td>\n",
              "      <td>0.612414</td>\n",
              "      <td>-0.089495</td>\n",
              "      <td>0.490592</td>\n",
              "      <td>0.702620</td>\n",
              "      <td>0.813432</td>\n",
              "      <td>0.625201</td>\n",
              "      <td>0.559608</td>\n",
              "      <td>0.508665</td>\n",
              "      <td>0.265970</td>\n",
              "      <td>0.493271</td>\n",
              "      <td>0.361387</td>\n",
              "      <td>0.346575</td>\n",
              "    </tr>\n",
              "    <tr>\n",
              "      <th>Age</th>\n",
              "      <td>-0.277637</td>\n",
              "      <td>0.291458</td>\n",
              "      <td>1.000000</td>\n",
              "      <td>-0.012746</td>\n",
              "      <td>-0.171645</td>\n",
              "      <td>0.113505</td>\n",
              "      <td>0.176450</td>\n",
              "      <td>0.230409</td>\n",
              "      <td>-0.050332</td>\n",
              "      <td>-0.200096</td>\n",
              "      <td>0.017516</td>\n",
              "      <td>-0.105058</td>\n",
              "      <td>-0.041162</td>\n",
              "      <td>-0.085056</td>\n",
              "      <td>0.213531</td>\n",
              "    </tr>\n",
              "    <tr>\n",
              "      <th>Weight</th>\n",
              "      <td>-0.594062</td>\n",
              "      <td>0.612414</td>\n",
              "      <td>-0.012746</td>\n",
              "      <td>1.000000</td>\n",
              "      <td>0.308279</td>\n",
              "      <td>0.830716</td>\n",
              "      <td>0.894191</td>\n",
              "      <td>0.887995</td>\n",
              "      <td>0.940884</td>\n",
              "      <td>0.868694</td>\n",
              "      <td>0.853167</td>\n",
              "      <td>0.613685</td>\n",
              "      <td>0.800416</td>\n",
              "      <td>0.630301</td>\n",
              "      <td>0.729775</td>\n",
              "    </tr>\n",
              "    <tr>\n",
              "      <th>Height</th>\n",
              "      <td>0.097881</td>\n",
              "      <td>-0.089495</td>\n",
              "      <td>-0.171645</td>\n",
              "      <td>0.308279</td>\n",
              "      <td>1.000000</td>\n",
              "      <td>0.253710</td>\n",
              "      <td>0.134892</td>\n",
              "      <td>0.087813</td>\n",
              "      <td>0.170394</td>\n",
              "      <td>0.148436</td>\n",
              "      <td>0.286053</td>\n",
              "      <td>0.264744</td>\n",
              "      <td>0.207816</td>\n",
              "      <td>0.228649</td>\n",
              "      <td>0.322065</td>\n",
              "    </tr>\n",
              "    <tr>\n",
              "      <th>Neck</th>\n",
              "      <td>-0.472966</td>\n",
              "      <td>0.490592</td>\n",
              "      <td>0.113505</td>\n",
              "      <td>0.830716</td>\n",
              "      <td>0.253710</td>\n",
              "      <td>1.000000</td>\n",
              "      <td>0.784835</td>\n",
              "      <td>0.754077</td>\n",
              "      <td>0.734958</td>\n",
              "      <td>0.695697</td>\n",
              "      <td>0.672405</td>\n",
              "      <td>0.477892</td>\n",
              "      <td>0.731146</td>\n",
              "      <td>0.623660</td>\n",
              "      <td>0.744826</td>\n",
              "    </tr>\n",
              "    <tr>\n",
              "      <th>Chest</th>\n",
              "      <td>-0.682599</td>\n",
              "      <td>0.702620</td>\n",
              "      <td>0.176450</td>\n",
              "      <td>0.894191</td>\n",
              "      <td>0.134892</td>\n",
              "      <td>0.784835</td>\n",
              "      <td>1.000000</td>\n",
              "      <td>0.915828</td>\n",
              "      <td>0.829420</td>\n",
              "      <td>0.729859</td>\n",
              "      <td>0.719496</td>\n",
              "      <td>0.482988</td>\n",
              "      <td>0.727907</td>\n",
              "      <td>0.580173</td>\n",
              "      <td>0.660162</td>\n",
              "    </tr>\n",
              "    <tr>\n",
              "      <th>Abdomen</th>\n",
              "      <td>-0.798955</td>\n",
              "      <td>0.813432</td>\n",
              "      <td>0.230409</td>\n",
              "      <td>0.887995</td>\n",
              "      <td>0.087813</td>\n",
              "      <td>0.754077</td>\n",
              "      <td>0.915828</td>\n",
              "      <td>1.000000</td>\n",
              "      <td>0.874066</td>\n",
              "      <td>0.766624</td>\n",
              "      <td>0.737179</td>\n",
              "      <td>0.453223</td>\n",
              "      <td>0.684983</td>\n",
              "      <td>0.503316</td>\n",
              "      <td>0.619832</td>\n",
              "    </tr>\n",
              "    <tr>\n",
              "      <th>Hip</th>\n",
              "      <td>-0.609331</td>\n",
              "      <td>0.625201</td>\n",
              "      <td>-0.050332</td>\n",
              "      <td>0.940884</td>\n",
              "      <td>0.170394</td>\n",
              "      <td>0.734958</td>\n",
              "      <td>0.829420</td>\n",
              "      <td>0.874066</td>\n",
              "      <td>1.000000</td>\n",
              "      <td>0.896410</td>\n",
              "      <td>0.823473</td>\n",
              "      <td>0.558387</td>\n",
              "      <td>0.739273</td>\n",
              "      <td>0.545014</td>\n",
              "      <td>0.630090</td>\n",
              "    </tr>\n",
              "    <tr>\n",
              "      <th>Thigh</th>\n",
              "      <td>-0.553091</td>\n",
              "      <td>0.559608</td>\n",
              "      <td>-0.200096</td>\n",
              "      <td>0.868694</td>\n",
              "      <td>0.148436</td>\n",
              "      <td>0.695697</td>\n",
              "      <td>0.729859</td>\n",
              "      <td>0.766624</td>\n",
              "      <td>0.896410</td>\n",
              "      <td>1.000000</td>\n",
              "      <td>0.799170</td>\n",
              "      <td>0.539797</td>\n",
              "      <td>0.761477</td>\n",
              "      <td>0.566842</td>\n",
              "      <td>0.558685</td>\n",
              "    </tr>\n",
              "    <tr>\n",
              "      <th>Knee</th>\n",
              "      <td>-0.495040</td>\n",
              "      <td>0.508665</td>\n",
              "      <td>0.017516</td>\n",
              "      <td>0.853167</td>\n",
              "      <td>0.286053</td>\n",
              "      <td>0.672405</td>\n",
              "      <td>0.719496</td>\n",
              "      <td>0.737179</td>\n",
              "      <td>0.823473</td>\n",
              "      <td>0.799170</td>\n",
              "      <td>1.000000</td>\n",
              "      <td>0.611608</td>\n",
              "      <td>0.678709</td>\n",
              "      <td>0.555898</td>\n",
              "      <td>0.664507</td>\n",
              "    </tr>\n",
              "    <tr>\n",
              "      <th>Ankle</th>\n",
              "      <td>-0.264890</td>\n",
              "      <td>0.265970</td>\n",
              "      <td>-0.105058</td>\n",
              "      <td>0.613685</td>\n",
              "      <td>0.264744</td>\n",
              "      <td>0.477892</td>\n",
              "      <td>0.482988</td>\n",
              "      <td>0.453223</td>\n",
              "      <td>0.558387</td>\n",
              "      <td>0.539797</td>\n",
              "      <td>0.611608</td>\n",
              "      <td>1.000000</td>\n",
              "      <td>0.484855</td>\n",
              "      <td>0.419050</td>\n",
              "      <td>0.566195</td>\n",
              "    </tr>\n",
              "    <tr>\n",
              "      <th>Biceps</th>\n",
              "      <td>-0.487109</td>\n",
              "      <td>0.493271</td>\n",
              "      <td>-0.041162</td>\n",
              "      <td>0.800416</td>\n",
              "      <td>0.207816</td>\n",
              "      <td>0.731146</td>\n",
              "      <td>0.727907</td>\n",
              "      <td>0.684983</td>\n",
              "      <td>0.739273</td>\n",
              "      <td>0.761477</td>\n",
              "      <td>0.678709</td>\n",
              "      <td>0.484855</td>\n",
              "      <td>1.000000</td>\n",
              "      <td>0.678255</td>\n",
              "      <td>0.632126</td>\n",
              "    </tr>\n",
              "    <tr>\n",
              "      <th>Forearm</th>\n",
              "      <td>-0.351648</td>\n",
              "      <td>0.361387</td>\n",
              "      <td>-0.085056</td>\n",
              "      <td>0.630301</td>\n",
              "      <td>0.228649</td>\n",
              "      <td>0.623660</td>\n",
              "      <td>0.580173</td>\n",
              "      <td>0.503316</td>\n",
              "      <td>0.545014</td>\n",
              "      <td>0.566842</td>\n",
              "      <td>0.555898</td>\n",
              "      <td>0.419050</td>\n",
              "      <td>0.678255</td>\n",
              "      <td>1.000000</td>\n",
              "      <td>0.585588</td>\n",
              "    </tr>\n",
              "    <tr>\n",
              "      <th>Wrist</th>\n",
              "      <td>-0.325716</td>\n",
              "      <td>0.346575</td>\n",
              "      <td>0.213531</td>\n",
              "      <td>0.729775</td>\n",
              "      <td>0.322065</td>\n",
              "      <td>0.744826</td>\n",
              "      <td>0.660162</td>\n",
              "      <td>0.619832</td>\n",
              "      <td>0.630090</td>\n",
              "      <td>0.558685</td>\n",
              "      <td>0.664507</td>\n",
              "      <td>0.566195</td>\n",
              "      <td>0.632126</td>\n",
              "      <td>0.585588</td>\n",
              "      <td>1.000000</td>\n",
              "    </tr>\n",
              "  </tbody>\n",
              "</table>\n",
              "</div>\n",
              "      <button class=\"colab-df-convert\" onclick=\"convertToInteractive('df-c4e032ad-f24d-4918-8da7-7f3b474f4a3f')\"\n",
              "              title=\"Convert this dataframe to an interactive table.\"\n",
              "              style=\"display:none;\">\n",
              "        \n",
              "  <svg xmlns=\"http://www.w3.org/2000/svg\" height=\"24px\"viewBox=\"0 0 24 24\"\n",
              "       width=\"24px\">\n",
              "    <path d=\"M0 0h24v24H0V0z\" fill=\"none\"/>\n",
              "    <path d=\"M18.56 5.44l.94 2.06.94-2.06 2.06-.94-2.06-.94-.94-2.06-.94 2.06-2.06.94zm-11 1L8.5 8.5l.94-2.06 2.06-.94-2.06-.94L8.5 2.5l-.94 2.06-2.06.94zm10 10l.94 2.06.94-2.06 2.06-.94-2.06-.94-.94-2.06-.94 2.06-2.06.94z\"/><path d=\"M17.41 7.96l-1.37-1.37c-.4-.4-.92-.59-1.43-.59-.52 0-1.04.2-1.43.59L10.3 9.45l-7.72 7.72c-.78.78-.78 2.05 0 2.83L4 21.41c.39.39.9.59 1.41.59.51 0 1.02-.2 1.41-.59l7.78-7.78 2.81-2.81c.8-.78.8-2.07 0-2.86zM5.41 20L4 18.59l7.72-7.72 1.47 1.35L5.41 20z\"/>\n",
              "  </svg>\n",
              "      </button>\n",
              "      \n",
              "  <style>\n",
              "    .colab-df-container {\n",
              "      display:flex;\n",
              "      flex-wrap:wrap;\n",
              "      gap: 12px;\n",
              "    }\n",
              "\n",
              "    .colab-df-convert {\n",
              "      background-color: #E8F0FE;\n",
              "      border: none;\n",
              "      border-radius: 50%;\n",
              "      cursor: pointer;\n",
              "      display: none;\n",
              "      fill: #1967D2;\n",
              "      height: 32px;\n",
              "      padding: 0 0 0 0;\n",
              "      width: 32px;\n",
              "    }\n",
              "\n",
              "    .colab-df-convert:hover {\n",
              "      background-color: #E2EBFA;\n",
              "      box-shadow: 0px 1px 2px rgba(60, 64, 67, 0.3), 0px 1px 3px 1px rgba(60, 64, 67, 0.15);\n",
              "      fill: #174EA6;\n",
              "    }\n",
              "\n",
              "    [theme=dark] .colab-df-convert {\n",
              "      background-color: #3B4455;\n",
              "      fill: #D2E3FC;\n",
              "    }\n",
              "\n",
              "    [theme=dark] .colab-df-convert:hover {\n",
              "      background-color: #434B5C;\n",
              "      box-shadow: 0px 1px 3px 1px rgba(0, 0, 0, 0.15);\n",
              "      filter: drop-shadow(0px 1px 2px rgba(0, 0, 0, 0.3));\n",
              "      fill: #FFFFFF;\n",
              "    }\n",
              "  </style>\n",
              "\n",
              "      <script>\n",
              "        const buttonEl =\n",
              "          document.querySelector('#df-c4e032ad-f24d-4918-8da7-7f3b474f4a3f button.colab-df-convert');\n",
              "        buttonEl.style.display =\n",
              "          google.colab.kernel.accessAllowed ? 'block' : 'none';\n",
              "\n",
              "        async function convertToInteractive(key) {\n",
              "          const element = document.querySelector('#df-c4e032ad-f24d-4918-8da7-7f3b474f4a3f');\n",
              "          const dataTable =\n",
              "            await google.colab.kernel.invokeFunction('convertToInteractive',\n",
              "                                                     [key], {});\n",
              "          if (!dataTable) return;\n",
              "\n",
              "          const docLinkHtml = 'Like what you see? Visit the ' +\n",
              "            '<a target=\"_blank\" href=https://colab.research.google.com/notebooks/data_table.ipynb>data table notebook</a>'\n",
              "            + ' to learn more about interactive tables.';\n",
              "          element.innerHTML = '';\n",
              "          dataTable['output_type'] = 'display_data';\n",
              "          await google.colab.output.renderOutput(dataTable, element);\n",
              "          const docLink = document.createElement('div');\n",
              "          docLink.innerHTML = docLinkHtml;\n",
              "          element.appendChild(docLink);\n",
              "        }\n",
              "      </script>\n",
              "    </div>\n",
              "  </div>\n",
              "  "
            ]
          },
          "metadata": {},
          "execution_count": 51
        }
      ]
    },
    {
      "cell_type": "markdown",
      "source": [
        "Shapiro - Wilk test"
      ],
      "metadata": {
        "id": "W9RrtcvHGN1-"
      }
    },
    {
      "cell_type": "code",
      "source": [
        "def Shapiro_Wilk_Test(df: pd.DataFrame, alpha_value: float):\n",
        "  from scipy.stats import shapiro \n",
        "  result = (shapiro(df))\n",
        "  print(\"S-W statistic: \", result[0])\n",
        "  print(\"p-value: \", result[1])\n",
        "  if result[1] < alpha_value:\n",
        "    print()\n",
        "    return False\n",
        "  else: \n",
        "    print()\n",
        "    return True"
      ],
      "metadata": {
        "id": "cXBQXhpHHIQy"
      },
      "execution_count": null,
      "outputs": []
    },
    {
      "cell_type": "code",
      "source": [
        "# Create the list of attributes for normality test\n",
        "attributes = df.columns.values.tolist()\n",
        "# Choose level of confidence of (1 - alpha) * 100 %\n",
        "alpha = 0.005 \n",
        "print(f\"With the level of confidence of {100 * (1 - alpha)} %\")\n",
        "print()\n",
        "normal = []\n",
        "for attribute in attributes:\n",
        "  print(\"Result of the S-W test on \" + attribute)\n",
        "  is_normaly_distributed = Shapiro_Wilk_Test(df[attribute], alpha)\n",
        "  if (is_normaly_distributed):\n",
        "    normal.append(attribute) "
      ],
      "metadata": {
        "colab": {
          "base_uri": "https://localhost:8080/"
        },
        "id": "3hziA127GB88",
        "outputId": "76fb8b39-35cb-48d4-9e7b-a532dbc0e744"
      },
      "execution_count": null,
      "outputs": [
        {
          "output_type": "stream",
          "name": "stdout",
          "text": [
            "With the level of confidence of 99.5 %\n",
            "\n",
            "Result of the S-W test on Density\n",
            "S-W statistic:  0.9953984618186951\n",
            "p-value:  0.6571357846260071\n",
            "\n",
            "Result of the S-W test on BodyFat\n",
            "S-W statistic:  0.9916781187057495\n",
            "p-value:  0.16492581367492676\n",
            "\n",
            "Result of the S-W test on Age\n",
            "S-W statistic:  0.9794573783874512\n",
            "p-value:  0.0010434207506477833\n",
            "\n",
            "Result of the S-W test on Weight\n",
            "S-W statistic:  0.941371738910675\n",
            "p-value:  1.7096029480967445e-08\n",
            "\n",
            "Result of the S-W test on Height\n",
            "S-W statistic:  0.6916309595108032\n",
            "p-value:  3.2254252009693074e-21\n",
            "\n",
            "Result of the S-W test on Neck\n",
            "S-W statistic:  0.970817506313324\n",
            "p-value:  4.9160062189912423e-05\n",
            "\n",
            "Result of the S-W test on Chest\n",
            "S-W statistic:  0.973411500453949\n",
            "p-value:  0.00011751972488127649\n",
            "\n",
            "Result of the S-W test on Abdomen\n",
            "S-W statistic:  0.9657307863235474\n",
            "p-value:  9.831484021560755e-06\n",
            "\n",
            "Result of the S-W test on Hip\n",
            "S-W statistic:  0.9217830896377563\n",
            "p-value:  3.018802152698896e-10\n",
            "\n",
            "Result of the S-W test on Thigh\n",
            "S-W statistic:  0.9660133123397827\n",
            "p-value:  1.0716434189816937e-05\n",
            "\n",
            "Result of the S-W test on Knee\n",
            "S-W statistic:  0.9824145436286926\n",
            "p-value:  0.0033056156244128942\n",
            "\n",
            "Result of the S-W test on Ankle\n",
            "S-W statistic:  0.8524103760719299\n",
            "p-value:  8.782421303057692e-15\n",
            "\n",
            "Result of the S-W test on Biceps\n",
            "S-W statistic:  0.9887239933013916\n",
            "p-value:  0.0463348887860775\n",
            "\n",
            "Result of the S-W test on Forearm\n",
            "S-W statistic:  0.9888156056404114\n",
            "p-value:  0.048207271844148636\n",
            "\n",
            "Result of the S-W test on Wrist\n",
            "S-W statistic:  0.9894630312919617\n",
            "p-value:  0.06379125267267227\n",
            "\n"
          ]
        }
      ]
    },
    {
      "cell_type": "code",
      "source": [
        "print(normal)"
      ],
      "metadata": {
        "colab": {
          "base_uri": "https://localhost:8080/"
        },
        "id": "jEqfKNytG-Vq",
        "outputId": "73454fba-424f-4cb9-fc74-d1c5aa82d27e"
      },
      "execution_count": null,
      "outputs": [
        {
          "output_type": "stream",
          "name": "stdout",
          "text": [
            "['Density', 'BodyFat', 'Biceps', 'Forearm', 'Wrist']\n"
          ]
        }
      ]
    },
    {
      "cell_type": "markdown",
      "source": [
        "Q-Q plot "
      ],
      "metadata": {
        "id": "ZnnrQBduD3gw"
      }
    },
    {
      "cell_type": "code",
      "source": [
        "# Show the Q-Q plot of the normally distributed attribute\n",
        "import scipy.stats as stats\n",
        "for attr in normal:\n",
        "  stats.probplot(df[attr], dist = 'norm', plot = plt)\n",
        "  plt.title(attr)\n",
        "  plt.show()"
      ],
      "metadata": {
        "colab": {
          "base_uri": "https://localhost:8080/",
          "height": 1000
        },
        "id": "3PK1Pu0fUTYe",
        "outputId": "24e843b3-2486-4b29-9aa6-464bf7a26441"
      },
      "execution_count": null,
      "outputs": [
        {
          "output_type": "display_data",
          "data": {
            "text/plain": [
              "<Figure size 432x288 with 1 Axes>"
            ],
            "image/png": "[encoded data removed]"
          },
          "metadata": {
            "needs_background": "light"
          }
        },
        {
          "output_type": "display_data",
          "data": {
            "text/plain": [
              "<Figure size 432x288 with 1 Axes>"
            ],
            "image/png": "[encoded data removed]"
          },
          "metadata": {
            "needs_background": "light"
          }
        },
        {
          "output_type": "display_data",
          "data": {
            "text/plain": [
              "<Figure size 432x288 with 1 Axes>"
            ],
            "image/png": "[encoded data removed]"
          },
          "metadata": {
            "needs_background": "light"
          }
        },
        {
          "output_type": "display_data",
          "data": {
            "text/plain": [
              "<Figure size 432x288 with 1 Axes>"
            ],
            "image/png": "[encoded data removed]"
          },
          "metadata": {
            "needs_background": "light"
          }
        },
        {
          "output_type": "display_data",
          "data": {
            "text/plain": [
              "<Figure size 432x288 with 1 Axes>"
            ],
            "image/png": "[encoded data removed]"
          },
          "metadata": {
            "needs_background": "light"
          }
        }
      ]
    },
    {
      "cell_type": "markdown",
      "source": [
        "Plotting Histogram and Density Plot together "
      ],
      "metadata": {
        "id": "uN-m8YolHfkR"
      }
    },
    {
      "cell_type": "code",
      "source": [
        "sns.histplot(df[normal[0]], kde=True, stat = 'density')\n",
        "plt.show"
      ],
      "metadata": {
        "colab": {
          "base_uri": "https://localhost:8080/",
          "height": 296
        },
        "id": "y_zQ6TKIxXxx",
        "outputId": "441295f2-551b-48f2-e696-cd9543d1046f"
      },
      "execution_count": null,
      "outputs": [
        {
          "output_type": "execute_result",
          "data": {
            "text/plain": [
              "<function matplotlib.pyplot.show>"
            ]
          },
          "metadata": {},
          "execution_count": 56
        },
        {
          "output_type": "display_data",
          "data": {
            "text/plain": [
              "<Figure size 432x288 with 1 Axes>"
            ],
            "image/png": "[encoded data removed]"
          },
          "metadata": {
            "needs_background": "light"
          }
        }
      ]
    },
    {
      "cell_type": "code",
      "source": [
        "\n",
        "for i in range(0, len(normal)):\n",
        "  sns.histplot(data=df[normal[i]], stat = 'density', kde=True)\n",
        "  plt.show()"
      ],
      "metadata": {
        "id": "kgaVB13wVbfx",
        "colab": {
          "base_uri": "https://localhost:8080/",
          "height": 1000
        },
        "outputId": "11677706-fd8a-4fbf-ec7a-e1d08fb402e2"
      },
      "execution_count": null,
      "outputs": [
        {
          "output_type": "display_data",
          "data": {
            "text/plain": [
              "<Figure size 432x288 with 1 Axes>"
            ],
            "image/png": "[encoded data removed]"
          },
          "metadata": {
            "needs_background": "light"
          }
        },
        {
          "output_type": "display_data",
          "data": {
            "text/plain": [
              "<Figure size 432x288 with 1 Axes>"
            ],
            "image/png": "[encoded data removed]"
          },
          "metadata": {
            "needs_background": "light"
          }
        },
        {
          "output_type": "display_data",
          "data": {
            "text/plain": [
              "<Figure size 432x288 with 1 Axes>"
            ],
            "image/png": "[encoded data removed]"
          },
          "metadata": {
            "needs_background": "light"
          }
        },
        {
          "output_type": "display_data",
          "data": {
            "text/plain": [
              "<Figure size 432x288 with 1 Axes>"
            ],
            "image/png": "[encoded data removed]"
          },
          "metadata": {
            "needs_background": "light"
          }
        },
        {
          "output_type": "display_data",
          "data": {
            "text/plain": [
              "<Figure size 432x288 with 1 Axes>"
            ],
            "image/png": "[encoded data removed]"
          },
          "metadata": {
            "needs_background": "light"
          }
        }
      ]
    },
    {
      "cell_type": "code",
      "source": [
        "print(sns.histplot.__doc__)"
      ],
      "metadata": {
        "id": "aZWTL9VEIEn_",
        "colab": {
          "base_uri": "https://localhost:8080/"
        },
        "outputId": "143aa94b-c138-4ae7-b225-cafe4d46900c"
      },
      "execution_count": null,
      "outputs": [
        {
          "output_type": "stream",
          "name": "stdout",
          "text": [
            "Plot univariate or bivariate histograms to show distributions of datasets.\n",
            "\n",
            "A histogram is a classic visualization tool that represents the distribution\n",
            "of one or more variables by counting the number of observations that fall within\n",
            "disrete bins.\n",
            "\n",
            "This function can normalize the statistic computed within each bin to estimate\n",
            "frequency, density or probability mass, and it can add a smooth curve obtained\n",
            "using a kernel density estimate, similar to :func:`kdeplot`.\n",
            "\n",
            "More information is provided in the :ref:`user guide <tutorial_hist>`.\n",
            "\n",
            "Parameters\n",
            "----------\n",
            "data : :class:`pandas.DataFrame`, :class:`numpy.ndarray`, mapping, or sequence\n",
            "    Input data structure. Either a long-form collection of vectors that can be\n",
            "    assigned to named variables or a wide-form dataset that will be internally\n",
            "    reshaped.\n",
            "x, y : vectors or keys in ``data``\n",
            "    Variables that specify positions on the x and y axes.\n",
            "hue : vector or key in ``data``\n",
            "    Semantic variable that is mapped to determine the color of plot elements.\n",
            "weights : vector or key in ``data``\n",
            "    If provided, weight the contribution of the corresponding data points\n",
            "    towards the count in each bin by these factors.\n",
            "stat : str\n",
            "    Aggregate statistic to compute in each bin.\n",
            "    \n",
            "    - `count`: show the number of observations in each bin\n",
            "    - `frequency`: show the number of observations divided by the bin width\n",
            "    - `probability`: or `proportion`: normalize such that bar heights sum to 1\n",
            "    - `percent`: normalize such that bar heights sum to 100\n",
            "    - `density`: normalize such that the total area of the histogram equals 1\n",
            "bins : str, number, vector, or a pair of such values\n",
            "    Generic bin parameter that can be the name of a reference rule,\n",
            "    the number of bins, or the breaks of the bins.\n",
            "    Passed to :func:`numpy.histogram_bin_edges`.\n",
            "binwidth : number or pair of numbers\n",
            "    Width of each bin, overrides ``bins`` but can be used with\n",
            "    ``binrange``.\n",
            "binrange : pair of numbers or a pair of pairs\n",
            "    Lowest and highest value for bin edges; can be used either\n",
            "    with ``bins`` or ``binwidth``. Defaults to data extremes.\n",
            "discrete : bool\n",
            "    If True, default to ``binwidth=1`` and draw the bars so that they are\n",
            "    centered on their corresponding data points. This avoids \"gaps\" that may\n",
            "    otherwise appear when using discrete (integer) data.\n",
            "cumulative : bool\n",
            "    If True, plot the cumulative counts as bins increase.\n",
            "common_bins : bool\n",
            "    If True, use the same bins when semantic variables produce multiple\n",
            "    plots. If using a reference rule to determine the bins, it will be computed\n",
            "    with the full dataset.\n",
            "common_norm : bool\n",
            "    If True and using a normalized statistic, the normalization will apply over\n",
            "    the full dataset. Otherwise, normalize each histogram independently.\n",
            "multiple : {\"layer\", \"dodge\", \"stack\", \"fill\"}\n",
            "    Approach to resolving multiple elements when semantic mapping creates subsets.\n",
            "    Only relevant with univariate data.\n",
            "element : {\"bars\", \"step\", \"poly\"}\n",
            "    Visual representation of the histogram statistic.\n",
            "    Only relevant with univariate data.\n",
            "fill : bool\n",
            "    If True, fill in the space under the histogram.\n",
            "    Only relevant with univariate data.\n",
            "shrink : number\n",
            "    Scale the width of each bar relative to the binwidth by this factor.\n",
            "    Only relevant with univariate data.\n",
            "kde : bool\n",
            "    If True, compute a kernel density estimate to smooth the distribution\n",
            "    and show on the plot as (one or more) line(s).\n",
            "    Only relevant with univariate data.\n",
            "kde_kws : dict\n",
            "    Parameters that control the KDE computation, as in :func:`kdeplot`.\n",
            "line_kws : dict\n",
            "    Parameters that control the KDE visualization, passed to\n",
            "    :meth:`matplotlib.axes.Axes.plot`.\n",
            "thresh : number or None\n",
            "    Cells with a statistic less than or equal to this value will be transparent.\n",
            "    Only relevant with bivariate data.\n",
            "pthresh : number or None\n",
            "    Like ``thresh``, but a value in [0, 1] such that cells with aggregate counts\n",
            "    (or other statistics, when used) up to this proportion of the total will be\n",
            "    transparent.\n",
            "pmax : number or None\n",
            "    A value in [0, 1] that sets that saturation point for the colormap at a value\n",
            "    such that cells below is constistute this proportion of the total count (or\n",
            "    other statistic, when used).\n",
            "cbar : bool\n",
            "    If True, add a colorbar to annotate the color mapping in a bivariate plot.\n",
            "    Note: Does not currently support plots with a ``hue`` variable well.\n",
            "cbar_ax : :class:`matplotlib.axes.Axes`\n",
            "    Pre-existing axes for the colorbar.\n",
            "cbar_kws : dict\n",
            "    Additional parameters passed to :meth:`matplotlib.figure.Figure.colorbar`.\n",
            "palette : string, list, dict, or :class:`matplotlib.colors.Colormap`\n",
            "    Method for choosing the colors to use when mapping the ``hue`` semantic.\n",
            "    String values are passed to :func:`color_palette`. List or dict values\n",
            "    imply categorical mapping, while a colormap object implies numeric mapping.\n",
            "hue_order : vector of strings\n",
            "    Specify the order of processing and plotting for categorical levels of the\n",
            "    ``hue`` semantic.\n",
            "hue_norm : tuple or :class:`matplotlib.colors.Normalize`\n",
            "    Either a pair of values that set the normalization range in data units\n",
            "    or an object that will map from data units into a [0, 1] interval. Usage\n",
            "    implies numeric mapping.\n",
            "color : :mod:`matplotlib color <matplotlib.colors>`\n",
            "    Single color specification for when hue mapping is not used. Otherwise, the\n",
            "    plot will try to hook into the matplotlib property cycle.\n",
            "log_scale : bool or number, or pair of bools or numbers\n",
            "    Set axis scale(s) to log. A single value sets the data axis for univariate\n",
            "    distributions and both axes for bivariate distributions. A pair of values\n",
            "    sets each axis independently. Numeric values are interpreted as the desired\n",
            "    base (default 10). If `False`, defer to the existing Axes scale.\n",
            "legend : bool\n",
            "    If False, suppress the legend for semantic variables.\n",
            "ax : :class:`matplotlib.axes.Axes`\n",
            "    Pre-existing axes for the plot. Otherwise, call :func:`matplotlib.pyplot.gca`\n",
            "    internally.\n",
            "kwargs\n",
            "    Other keyword arguments are passed to one of the following matplotlib\n",
            "    functions:\n",
            "\n",
            "    - :meth:`matplotlib.axes.Axes.bar` (univariate, element=\"bars\")\n",
            "    - :meth:`matplotlib.axes.Axes.fill_between` (univariate, other element, fill=True)\n",
            "    - :meth:`matplotlib.axes.Axes.plot` (univariate, other element, fill=False)\n",
            "    - :meth:`matplotlib.axes.Axes.pcolormesh` (bivariate)\n",
            "\n",
            "Returns\n",
            "-------\n",
            ":class:`matplotlib.axes.Axes`\n",
            "    The matplotlib axes containing the plot.\n",
            "\n",
            "See Also\n",
            "--------\n",
            "displot : Figure-level interface to distribution plot functions.\n",
            "kdeplot : Plot univariate or bivariate distributions using kernel density estimation.\n",
            "rugplot : Plot a tick at each observation value along the x and/or y axes.\n",
            "ecdfplot : Plot empirical cumulative distribution functions.\n",
            "jointplot : Draw a bivariate plot with univariate marginal distributions.\n",
            "\n",
            "Notes\n",
            "-----\n",
            "\n",
            "The choice of bins for computing and plotting a histogram can exert\n",
            "substantial influence on the insights that one is able to draw from the\n",
            "visualization. If the bins are too large, they may erase important features.\n",
            "On the other hand, bins that are too small may be dominated by random\n",
            "variability, obscuring the shape of the true underlying distribution. The\n",
            "default bin size is determined using a reference rule that depends on the\n",
            "sample size and variance. This works well in many cases, (i.e., with\n",
            "\"well-behaved\" data) but it fails in others. It is always a good to try\n",
            "different bin sizes to be sure that you are not missing something important.\n",
            "This function allows you to specify bins in several different ways, such as\n",
            "by setting the total number of bins to use, the width of each bin, or the\n",
            "specific locations where the bins should break.\n",
            "\n",
            "Examples\n",
            "--------\n",
            "\n",
            ".. include:: ../docstrings/histplot.rst\n",
            "\n",
            "\n"
          ]
        }
      ]
    },
    {
      "cell_type": "code",
      "source": [
        "df[\"Age\"][df[\"BodyFat\"] <= 30].describe()"
      ],
      "metadata": {
        "colab": {
          "base_uri": "https://localhost:8080/"
        },
        "id": "B2rgd9tIC752",
        "outputId": "2c94489f-dcbd-41c9-bedf-30b0058f86bb"
      },
      "execution_count": null,
      "outputs": [
        {
          "output_type": "execute_result",
          "data": {
            "text/plain": [
              "count    227.000000\n",
              "mean      44.101322\n",
              "std       12.426184\n",
              "min       22.000000\n",
              "25%       35.000000\n",
              "50%       43.000000\n",
              "75%       52.500000\n",
              "max       81.000000\n",
              "Name: Age, dtype: float64"
            ]
          },
          "metadata": {},
          "execution_count": 59
        }
      ]
    },
    {
      "cell_type": "code",
      "source": [
        "df[\"Age\"][df[\"BodyFat\"] > 30].describe()"
      ],
      "metadata": {
        "colab": {
          "base_uri": "https://localhost:8080/"
        },
        "id": "DLTCbzY4EXut",
        "outputId": "49e9f8a2-0567-4a2f-c2ec-e66304ce2e0e"
      },
      "execution_count": null,
      "outputs": [
        {
          "output_type": "execute_result",
          "data": {
            "text/plain": [
              "count    25.000000\n",
              "mean     52.000000\n",
              "std      12.179217\n",
              "min      28.000000\n",
              "25%      44.000000\n",
              "50%      49.000000\n",
              "75%      65.000000\n",
              "max      74.000000\n",
              "Name: Age, dtype: float64"
            ]
          },
          "metadata": {},
          "execution_count": 60
        }
      ]
    },
    {
      "cell_type": "markdown",
      "source": [
        "Welch's Test\n"
      ],
      "metadata": {
        "id": "5NrbDBdHTxX9"
      }
    },
    {
      "cell_type": "markdown",
      "source": [
        "1. Two sample t-test for age of people"
      ],
      "metadata": {
        "id": "uTPc1CsJ18Ll"
      }
    },
    {
      "cell_type": "code",
      "source": [
        "from scipy.stats import ttest_1samp\n",
        "\n",
        "obese_sample = df[\"Age\"][df[\"BodyFat\"] > 30]\n",
        "normal_sample = df[\"Age\"][df[\"BodyFat\"] <= 30]\n",
        "\n",
        "print(\"The variance of obese sample: \", obese_sample.var())\n",
        "print(\"The variance of normal sample: \", normal_sample.var())"
      ],
      "metadata": {
        "colab": {
          "base_uri": "https://localhost:8080/"
        },
        "id": "yd4ih2rHEnIf",
        "outputId": "b193910e-225b-4d7e-ad1d-e44203e286eb"
      },
      "execution_count": null,
      "outputs": [
        {
          "output_type": "stream",
          "name": "stdout",
          "text": [
            "The variance of obese sample:  148.33333333333334\n",
            "The variance of normal sample:  154.41004249347003\n"
          ]
        }
      ]
    },
    {
      "cell_type": "code",
      "source": [
        "# check normality validation\n",
        "from scipy import stats \n",
        "stats.shapiro(obese_sample)"
      ],
      "metadata": {
        "colab": {
          "base_uri": "https://localhost:8080/"
        },
        "id": "Zu32RfU7k55I",
        "outputId": "f86e69b5-e503-46ab-8fee-ed587ea3b57d"
      },
      "execution_count": null,
      "outputs": [
        {
          "output_type": "execute_result",
          "data": {
            "text/plain": [
              "ShapiroResult(statistic=0.944667637348175, pvalue=0.18960271775722504)"
            ]
          },
          "metadata": {},
          "execution_count": 62
        }
      ]
    },
    {
      "cell_type": "code",
      "source": [
        "stats.shapiro(normal_sample)"
      ],
      "metadata": {
        "colab": {
          "base_uri": "https://localhost:8080/"
        },
        "id": "ZD8Ls2VelNy4",
        "outputId": "baa9672d-7b9c-46e4-df62-913ae9598b77"
      },
      "execution_count": null,
      "outputs": [
        {
          "output_type": "execute_result",
          "data": {
            "text/plain": [
              "ShapiroResult(statistic=0.9792468547821045, pvalue=0.002033522119745612)"
            ]
          },
          "metadata": {},
          "execution_count": 63
        }
      ]
    },
    {
      "cell_type": "code",
      "source": [
        "obese_sample.describe()"
      ],
      "metadata": {
        "colab": {
          "base_uri": "https://localhost:8080/"
        },
        "id": "HXTb6994Vj-p",
        "outputId": "88c4f685-f988-42fc-9ff4-fec9a5057904"
      },
      "execution_count": null,
      "outputs": [
        {
          "output_type": "execute_result",
          "data": {
            "text/plain": [
              "count    25.000000\n",
              "mean     52.000000\n",
              "std      12.179217\n",
              "min      28.000000\n",
              "25%      44.000000\n",
              "50%      49.000000\n",
              "75%      65.000000\n",
              "max      74.000000\n",
              "Name: Age, dtype: float64"
            ]
          },
          "metadata": {},
          "execution_count": 64
        }
      ]
    },
    {
      "cell_type": "code",
      "source": [
        "normal_sample.describe()"
      ],
      "metadata": {
        "colab": {
          "base_uri": "https://localhost:8080/"
        },
        "id": "9pqhUWHlfQ55",
        "outputId": "2b5a1b70-e66e-48c0-8825-6a974a6c203e"
      },
      "execution_count": null,
      "outputs": [
        {
          "output_type": "execute_result",
          "data": {
            "text/plain": [
              "count    227.000000\n",
              "mean      44.101322\n",
              "std       12.426184\n",
              "min       22.000000\n",
              "25%       35.000000\n",
              "50%       43.000000\n",
              "75%       52.500000\n",
              "max       81.000000\n",
              "Name: Age, dtype: float64"
            ]
          },
          "metadata": {},
          "execution_count": 65
        }
      ]
    },
    {
      "cell_type": "code",
      "source": [
        "import math\n",
        "sX1 = obese_sample.std() / math.sqrt(obese_sample.count())\n",
        "sX2 = normal_sample.std() / math.sqrt(normal_sample.count())\n",
        "print(\"sX1: \", sX1)\n",
        "print(\"sX2: \", sX2)"
      ],
      "metadata": {
        "colab": {
          "base_uri": "https://localhost:8080/"
        },
        "id": "uoYUTLipfZWE",
        "outputId": "0a59f27d-a722-4244-f50c-d3aedc8168c8"
      },
      "execution_count": null,
      "outputs": [
        {
          "output_type": "stream",
          "name": "stdout",
          "text": [
            "sX1:  2.4358434541926814\n",
            "sX2:  0.8247547826554774\n"
          ]
        }
      ]
    },
    {
      "cell_type": "code",
      "source": [
        "# function returns the degree of freedom \n",
        "def welch_dof(x, y):\n",
        "  dof = (x.var()/x.size + y.var()/y.size)**2 / ((x.var()/x.size)**2 / (x.size-1) + (y.var()/y.size)**2 / (y.size-1))\n",
        "  return dof \n",
        "\n",
        "def welch_ttest(x, y):\n",
        "  dof = welch_dof(x, y)\n",
        "  t, p = stats.ttest_ind(x, y, equal_var = False)\n",
        "\n",
        "  print(\"\\n\",\n",
        "          f\"Welch's t-test= {t}\", \"\\n\",\n",
        "          f\"p-value = {p}\", \"\\n\",\n",
        "          f\"Welch-Satterthwaite Degrees of Freedom= {dof}\")\n"
      ],
      "metadata": {
        "id": "XSVH8KMGg2y1"
      },
      "execution_count": null,
      "outputs": []
    },
    {
      "cell_type": "code",
      "source": [
        "welch_ttest(obese_sample, normal_sample)"
      ],
      "metadata": {
        "colab": {
          "base_uri": "https://localhost:8080/"
        },
        "id": "gSuFEmi_oJXX",
        "outputId": "7eea8187-4ebe-4d5a-9267-931751659827"
      },
      "execution_count": null,
      "outputs": [
        {
          "output_type": "stream",
          "name": "stdout",
          "text": [
            "\n",
            " Welch's t-test= 3.0714042965742228 \n",
            " p-value = 0.004521304927686154 \n",
            " Welch-Satterthwaite Degrees of Freedom= 29.776783711871573\n"
          ]
        }
      ]
    },
    {
      "cell_type": "markdown",
      "source": [
        "2. Two sample t-test for abdomen circumference of people"
      ],
      "metadata": {
        "id": "DQl4mCP-2DHT"
      }
    },
    {
      "cell_type": "code",
      "source": [
        "df[\"Abdomen\"][df[\"BodyFat\"] > 30].describe()\n"
      ],
      "metadata": {
        "id": "ggPtaufHoOmP",
        "colab": {
          "base_uri": "https://localhost:8080/"
        },
        "outputId": "913c5ab8-ca8a-46e5-f403-6ca2ea83e060"
      },
      "execution_count": null,
      "outputs": [
        {
          "output_type": "execute_result",
          "data": {
            "text/plain": [
              "count     25.000000\n",
              "mean     110.688000\n",
              "std       10.790711\n",
              "min       93.900000\n",
              "25%      105.000000\n",
              "50%      108.500000\n",
              "75%      113.900000\n",
              "max      148.100000\n",
              "Name: Abdomen, dtype: float64"
            ]
          },
          "metadata": {},
          "execution_count": 69
        }
      ]
    },
    {
      "cell_type": "code",
      "source": [
        "df[\"Abdomen\"][df[\"BodyFat\"] <= 30].describe()"
      ],
      "metadata": {
        "colab": {
          "base_uri": "https://localhost:8080/"
        },
        "id": "fq0Xa46mteUT",
        "outputId": "d1962fed-9acc-4062-bd54-487dcf72eda2"
      },
      "execution_count": null,
      "outputs": [
        {
          "output_type": "execute_result",
          "data": {
            "text/plain": [
              "count    227.000000\n",
              "mean      90.559031\n",
              "std        8.740590\n",
              "min       69.400000\n",
              "25%       83.800000\n",
              "50%       90.000000\n",
              "75%       97.100000\n",
              "max      113.800000\n",
              "Name: Abdomen, dtype: float64"
            ]
          },
          "metadata": {},
          "execution_count": 70
        }
      ]
    },
    {
      "cell_type": "code",
      "source": [
        "df[\"Abdomen\"].describe()"
      ],
      "metadata": {
        "colab": {
          "base_uri": "https://localhost:8080/"
        },
        "id": "Z8oZIRFrt7z0",
        "outputId": "951e55b5-c1cd-48cb-ad6a-7eb3196cc19e"
      },
      "execution_count": null,
      "outputs": [
        {
          "output_type": "execute_result",
          "data": {
            "text/plain": [
              "count    252.000000\n",
              "mean      92.555952\n",
              "std       10.783077\n",
              "min       69.400000\n",
              "25%       84.575000\n",
              "50%       90.950000\n",
              "75%       99.325000\n",
              "max      148.100000\n",
              "Name: Abdomen, dtype: float64"
            ]
          },
          "metadata": {},
          "execution_count": 71
        }
      ]
    },
    {
      "cell_type": "code",
      "source": [
        "abdomen_obese_people = df[\"Abdomen\"][df[\"BodyFat\"] > 30]\n",
        "abdomen_normal_people = df[\"Abdomen\"][df[\"BodyFat\"] <= 30]"
      ],
      "metadata": {
        "id": "nTJpfdjdt-wQ"
      },
      "execution_count": null,
      "outputs": []
    },
    {
      "cell_type": "code",
      "source": [
        "welch_ttest(abdomen_obese_people, abdomen_normal_people)"
      ],
      "metadata": {
        "colab": {
          "base_uri": "https://localhost:8080/"
        },
        "id": "sdzIKvFf2bpA",
        "outputId": "07b2ef82-e0f3-42c6-885d-ee7b4711bafc"
      },
      "execution_count": null,
      "outputs": [
        {
          "output_type": "stream",
          "name": "stdout",
          "text": [
            "\n",
            " Welch's t-test= 9.007235644672539 \n",
            " p-value = 1.0525024347824213e-09 \n",
            " Welch-Satterthwaite Degrees of Freedom= 27.57848381827301\n"
          ]
        }
      ]
    },
    {
      "cell_type": "code",
      "source": [
        "print(\"Root Means Squared Error when predict with imbalanced data: 0.02899305865706231\")"
      ],
      "metadata": {
        "id": "_a8zgX-r2lC3",
        "colab": {
          "base_uri": "https://localhost:8080/"
        },
        "outputId": "4bf9187b-7493-4e4a-cd88-3eac9a3624d1"
      },
      "execution_count": null,
      "outputs": [
        {
          "output_type": "stream",
          "name": "stdout",
          "text": [
            "Root Means Squared Error when predict with imbalanced data: 0.02899305865706231\n"
          ]
        }
      ]
    },
    {
      "cell_type": "code",
      "source": [
        ""
      ],
      "metadata": {
        "id": "OZeJ7iwiVjUx"
      },
      "execution_count": null,
      "outputs": []
    }
  ]
}